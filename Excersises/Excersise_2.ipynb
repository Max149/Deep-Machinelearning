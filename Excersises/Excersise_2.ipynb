{
 "cells": [
  {
   "cell_type": "markdown",
   "metadata": {},
   "source": [
    "# Excersise 1"
   ]
  },
  {
   "cell_type": "code",
   "execution_count": 24,
   "metadata": {},
   "outputs": [
    {
     "data": {
      "text/plain": [
       "((60000, 28, 28), (60000,), (10000, 28, 28), (10000,))"
      ]
     },
     "execution_count": 24,
     "metadata": {},
     "output_type": "execute_result"
    }
   ],
   "source": [
    "import seaborn as sns\n",
    "import keras\n",
    "\n",
    "(X_train, y_train), (X_test, y_test) = keras.datasets.mnist.load_data()\n",
    "\n",
    "X_train.shape, y_train.shape, X_test.shape, y_test.shape\n"
   ]
  },
  {
   "cell_type": "code",
   "execution_count": 25,
   "metadata": {},
   "outputs": [
    {
     "data": {
      "image/png": "[encoded data removed]",
      "text/plain": [
       "<Figure size 1200x400 with 10 Axes>"
      ]
     },
     "metadata": {},
     "output_type": "display_data"
    }
   ],
   "source": [
    "# A)\n",
    "import matplotlib.pyplot as plt\n",
    "\n",
    "def display_images(data, nrows= 2, ncols = 5, figsize=(12,4)):\n",
    "    fig, axes = plt.subplots(nrows, ncols, figsize=figsize)\n",
    "\n",
    "    for i, ax in enumerate(axes.flatten()):\n",
    "        ax.imshow(data[i,:,:], cmap=\"gray\")\n",
    "        ax.axis(\"off\")\n",
    "    \n",
    "    fig.subplots_adjust(wspace=0, hspace=.1, bottom=0 )\n",
    "\n",
    "display_images(X_train)"
   ]
  },
  {
   "cell_type": "code",
   "execution_count": 26,
   "metadata": {},
   "outputs": [],
   "source": [
    "# B)\n",
    "X_train = X_train.astype(\"float32\") / 255\n",
    "X_test = X_test.astype(\"float32\") / 255"
   ]
  },
  {
   "cell_type": "code",
   "execution_count": 27,
   "metadata": {},
   "outputs": [
    {
     "data": {
      "text/html": [
       "<pre style=\"white-space:pre;overflow-x:auto;line-height:normal;font-family:Menlo,'DejaVu Sans Mono',consolas,'Courier New',monospace\"><span style=\"font-weight: bold\">Model: \"functional_2\"</span>\n",
       "</pre>\n"
      ],
      "text/plain": [
       "\u001b[1mModel: \"functional_2\"\u001b[0m\n"
      ]
     },
     "metadata": {},
     "output_type": "display_data"
    },
    {
     "data": {
      "text/html": [
       "<pre style=\"white-space:pre;overflow-x:auto;line-height:normal;font-family:Menlo,'DejaVu Sans Mono',consolas,'Courier New',monospace\">┏━━━━━━━━━━━━━━━━━━━━━━━━━━━━━━━━━┳━━━━━━━━━━━━━━━━━━━━━━━━┳━━━━━━━━━━━━━━━┓\n",
       "┃<span style=\"font-weight: bold\"> Layer (type)                    </span>┃<span style=\"font-weight: bold\"> Output Shape           </span>┃<span style=\"font-weight: bold\">       Param # </span>┃\n",
       "┡━━━━━━━━━━━━━━━━━━━━━━━━━━━━━━━━━╇━━━━━━━━━━━━━━━━━━━━━━━━╇━━━━━━━━━━━━━━━┩\n",
       "│ input_layer_2 (<span style=\"color: #0087ff; text-decoration-color: #0087ff\">InputLayer</span>)      │ (<span style=\"color: #00d7ff; text-decoration-color: #00d7ff\">None</span>, <span style=\"color: #00af00; text-decoration-color: #00af00\">28</span>, <span style=\"color: #00af00; text-decoration-color: #00af00\">28</span>, <span style=\"color: #00af00; text-decoration-color: #00af00\">1</span>)      │             <span style=\"color: #00af00; text-decoration-color: #00af00\">0</span> │\n",
       "├─────────────────────────────────┼────────────────────────┼───────────────┤\n",
       "│ conv2d_6 (<span style=\"color: #0087ff; text-decoration-color: #0087ff\">Conv2D</span>)               │ (<span style=\"color: #00d7ff; text-decoration-color: #00d7ff\">None</span>, <span style=\"color: #00af00; text-decoration-color: #00af00\">26</span>, <span style=\"color: #00af00; text-decoration-color: #00af00\">26</span>, <span style=\"color: #00af00; text-decoration-color: #00af00\">32</span>)     │           <span style=\"color: #00af00; text-decoration-color: #00af00\">320</span> │\n",
       "├─────────────────────────────────┼────────────────────────┼───────────────┤\n",
       "│ max_pooling2d_4 (<span style=\"color: #0087ff; text-decoration-color: #0087ff\">MaxPooling2D</span>)  │ (<span style=\"color: #00d7ff; text-decoration-color: #00d7ff\">None</span>, <span style=\"color: #00af00; text-decoration-color: #00af00\">13</span>, <span style=\"color: #00af00; text-decoration-color: #00af00\">13</span>, <span style=\"color: #00af00; text-decoration-color: #00af00\">32</span>)     │             <span style=\"color: #00af00; text-decoration-color: #00af00\">0</span> │\n",
       "├─────────────────────────────────┼────────────────────────┼───────────────┤\n",
       "│ conv2d_7 (<span style=\"color: #0087ff; text-decoration-color: #0087ff\">Conv2D</span>)               │ (<span style=\"color: #00d7ff; text-decoration-color: #00d7ff\">None</span>, <span style=\"color: #00af00; text-decoration-color: #00af00\">11</span>, <span style=\"color: #00af00; text-decoration-color: #00af00\">11</span>, <span style=\"color: #00af00; text-decoration-color: #00af00\">64</span>)     │        <span style=\"color: #00af00; text-decoration-color: #00af00\">18,496</span> │\n",
       "├─────────────────────────────────┼────────────────────────┼───────────────┤\n",
       "│ max_pooling2d_5 (<span style=\"color: #0087ff; text-decoration-color: #0087ff\">MaxPooling2D</span>)  │ (<span style=\"color: #00d7ff; text-decoration-color: #00d7ff\">None</span>, <span style=\"color: #00af00; text-decoration-color: #00af00\">5</span>, <span style=\"color: #00af00; text-decoration-color: #00af00\">5</span>, <span style=\"color: #00af00; text-decoration-color: #00af00\">64</span>)       │             <span style=\"color: #00af00; text-decoration-color: #00af00\">0</span> │\n",
       "├─────────────────────────────────┼────────────────────────┼───────────────┤\n",
       "│ conv2d_8 (<span style=\"color: #0087ff; text-decoration-color: #0087ff\">Conv2D</span>)               │ (<span style=\"color: #00d7ff; text-decoration-color: #00d7ff\">None</span>, <span style=\"color: #00af00; text-decoration-color: #00af00\">3</span>, <span style=\"color: #00af00; text-decoration-color: #00af00\">3</span>, <span style=\"color: #00af00; text-decoration-color: #00af00\">128</span>)      │        <span style=\"color: #00af00; text-decoration-color: #00af00\">73,856</span> │\n",
       "├─────────────────────────────────┼────────────────────────┼───────────────┤\n",
       "│ flatten_2 (<span style=\"color: #0087ff; text-decoration-color: #0087ff\">Flatten</span>)             │ (<span style=\"color: #00d7ff; text-decoration-color: #00d7ff\">None</span>, <span style=\"color: #00af00; text-decoration-color: #00af00\">1152</span>)           │             <span style=\"color: #00af00; text-decoration-color: #00af00\">0</span> │\n",
       "├─────────────────────────────────┼────────────────────────┼───────────────┤\n",
       "│ dense_2 (<span style=\"color: #0087ff; text-decoration-color: #0087ff\">Dense</span>)                 │ (<span style=\"color: #00d7ff; text-decoration-color: #00d7ff\">None</span>, <span style=\"color: #00af00; text-decoration-color: #00af00\">10</span>)             │        <span style=\"color: #00af00; text-decoration-color: #00af00\">11,530</span> │\n",
       "└─────────────────────────────────┴────────────────────────┴───────────────┘\n",
       "</pre>\n"
      ],
      "text/plain": [
       "┏━━━━━━━━━━━━━━━━━━━━━━━━━━━━━━━━━┳━━━━━━━━━━━━━━━━━━━━━━━━┳━━━━━━━━━━━━━━━┓\n",
       "┃\u001b[1m \u001b[0m\u001b[1mLayer (type)                   \u001b[0m\u001b[1m \u001b[0m┃\u001b[1m \u001b[0m\u001b[1mOutput Shape          \u001b[0m\u001b[1m \u001b[0m┃\u001b[1m \u001b[0m\u001b[1m      Param #\u001b[0m\u001b[1m \u001b[0m┃\n",
       "┡━━━━━━━━━━━━━━━━━━━━━━━━━━━━━━━━━╇━━━━━━━━━━━━━━━━━━━━━━━━╇━━━━━━━━━━━━━━━┩\n",
       "│ input_layer_2 (\u001b[38;5;33mInputLayer\u001b[0m)      │ (\u001b[38;5;45mNone\u001b[0m, \u001b[38;5;34m28\u001b[0m, \u001b[38;5;34m28\u001b[0m, \u001b[38;5;34m1\u001b[0m)      │             \u001b[38;5;34m0\u001b[0m │\n",
       "├─────────────────────────────────┼────────────────────────┼───────────────┤\n",
       "│ conv2d_6 (\u001b[38;5;33mConv2D\u001b[0m)               │ (\u001b[38;5;45mNone\u001b[0m, \u001b[38;5;34m26\u001b[0m, \u001b[38;5;34m26\u001b[0m, \u001b[38;5;34m32\u001b[0m)     │           \u001b[38;5;34m320\u001b[0m │\n",
       "├─────────────────────────────────┼────────────────────────┼───────────────┤\n",
       "│ max_pooling2d_4 (\u001b[38;5;33mMaxPooling2D\u001b[0m)  │ (\u001b[38;5;45mNone\u001b[0m, \u001b[38;5;34m13\u001b[0m, \u001b[38;5;34m13\u001b[0m, \u001b[38;5;34m32\u001b[0m)     │             \u001b[38;5;34m0\u001b[0m │\n",
       "├─────────────────────────────────┼────────────────────────┼───────────────┤\n",
       "│ conv2d_7 (\u001b[38;5;33mConv2D\u001b[0m)               │ (\u001b[38;5;45mNone\u001b[0m, \u001b[38;5;34m11\u001b[0m, \u001b[38;5;34m11\u001b[0m, \u001b[38;5;34m64\u001b[0m)     │        \u001b[38;5;34m18,496\u001b[0m │\n",
       "├─────────────────────────────────┼────────────────────────┼───────────────┤\n",
       "│ max_pooling2d_5 (\u001b[38;5;33mMaxPooling2D\u001b[0m)  │ (\u001b[38;5;45mNone\u001b[0m, \u001b[38;5;34m5\u001b[0m, \u001b[38;5;34m5\u001b[0m, \u001b[38;5;34m64\u001b[0m)       │             \u001b[38;5;34m0\u001b[0m │\n",
       "├─────────────────────────────────┼────────────────────────┼───────────────┤\n",
       "│ conv2d_8 (\u001b[38;5;33mConv2D\u001b[0m)               │ (\u001b[38;5;45mNone\u001b[0m, \u001b[38;5;34m3\u001b[0m, \u001b[38;5;34m3\u001b[0m, \u001b[38;5;34m128\u001b[0m)      │        \u001b[38;5;34m73,856\u001b[0m │\n",
       "├─────────────────────────────────┼────────────────────────┼───────────────┤\n",
       "│ flatten_2 (\u001b[38;5;33mFlatten\u001b[0m)             │ (\u001b[38;5;45mNone\u001b[0m, \u001b[38;5;34m1152\u001b[0m)           │             \u001b[38;5;34m0\u001b[0m │\n",
       "├─────────────────────────────────┼────────────────────────┼───────────────┤\n",
       "│ dense_2 (\u001b[38;5;33mDense\u001b[0m)                 │ (\u001b[38;5;45mNone\u001b[0m, \u001b[38;5;34m10\u001b[0m)             │        \u001b[38;5;34m11,530\u001b[0m │\n",
       "└─────────────────────────────────┴────────────────────────┴───────────────┘\n"
      ]
     },
     "metadata": {},
     "output_type": "display_data"
    },
    {
     "data": {
      "text/html": [
       "<pre style=\"white-space:pre;overflow-x:auto;line-height:normal;font-family:Menlo,'DejaVu Sans Mono',consolas,'Courier New',monospace\"><span style=\"font-weight: bold\"> Total params: </span><span style=\"color: #00af00; text-decoration-color: #00af00\">104,202</span> (407.04 KB)\n",
       "</pre>\n"
      ],
      "text/plain": [
       "\u001b[1m Total params: \u001b[0m\u001b[38;5;34m104,202\u001b[0m (407.04 KB)\n"
      ]
     },
     "metadata": {},
     "output_type": "display_data"
    },
    {
     "data": {
      "text/html": [
       "<pre style=\"white-space:pre;overflow-x:auto;line-height:normal;font-family:Menlo,'DejaVu Sans Mono',consolas,'Courier New',monospace\"><span style=\"font-weight: bold\"> Trainable params: </span><span style=\"color: #00af00; text-decoration-color: #00af00\">104,202</span> (407.04 KB)\n",
       "</pre>\n"
      ],
      "text/plain": [
       "\u001b[1m Trainable params: \u001b[0m\u001b[38;5;34m104,202\u001b[0m (407.04 KB)\n"
      ]
     },
     "metadata": {},
     "output_type": "display_data"
    },
    {
     "data": {
      "text/html": [
       "<pre style=\"white-space:pre;overflow-x:auto;line-height:normal;font-family:Menlo,'DejaVu Sans Mono',consolas,'Courier New',monospace\"><span style=\"font-weight: bold\"> Non-trainable params: </span><span style=\"color: #00af00; text-decoration-color: #00af00\">0</span> (0.00 B)\n",
       "</pre>\n"
      ],
      "text/plain": [
       "\u001b[1m Non-trainable params: \u001b[0m\u001b[38;5;34m0\u001b[0m (0.00 B)\n"
      ]
     },
     "metadata": {},
     "output_type": "display_data"
    }
   ],
   "source": [
    "# C)\n",
    "from keras import layers\n",
    "\n",
    "inputs = keras.Input(shape=(28, 28, 1))\n",
    "x = layers.Conv2D(filters=32, kernel_size=3, activation=\"relu\")(inputs)\n",
    "x = layers.MaxPooling2D(pool_size=2)(x)\n",
    "x = layers.Conv2D(filters=64, kernel_size=3, activation=\"relu\")(x)\n",
    "x = layers.MaxPooling2D(pool_size=2)(x)\n",
    "x = layers.Conv2D(filters=128, kernel_size=3, activation=\"relu\")(x)\n",
    "x = layers.Flatten()(x)\n",
    "outputs = layers.Dense(10, activation=\"softmax\")(x)\n",
    "model = keras.Model(inputs=inputs, outputs=outputs)\n",
    "\n",
    "model.summary()"
   ]
  },
  {
   "cell_type": "code",
   "execution_count": 28,
   "metadata": {},
   "outputs": [
    {
     "name": "stdout",
     "output_type": "stream",
     "text": [
      "Epoch 1/8\n",
      "\u001b[1m938/938\u001b[0m \u001b[32m━━━━━━━━━━━━━━━━━━━━\u001b[0m\u001b[37m\u001b[0m \u001b[1m13s\u001b[0m 13ms/step - accuracy: 0.8865 - loss: 0.3639\n",
      "Epoch 2/8\n",
      "\u001b[1m938/938\u001b[0m \u001b[32m━━━━━━━━━━━━━━━━━━━━\u001b[0m\u001b[37m\u001b[0m \u001b[1m11s\u001b[0m 12ms/step - accuracy: 0.9857 - loss: 0.0468\n",
      "Epoch 3/8\n",
      "\u001b[1m938/938\u001b[0m \u001b[32m━━━━━━━━━━━━━━━━━━━━\u001b[0m\u001b[37m\u001b[0m \u001b[1m11s\u001b[0m 12ms/step - accuracy: 0.9905 - loss: 0.0296\n",
      "Epoch 4/8\n",
      "\u001b[1m938/938\u001b[0m \u001b[32m━━━━━━━━━━━━━━━━━━━━\u001b[0m\u001b[37m\u001b[0m \u001b[1m11s\u001b[0m 12ms/step - accuracy: 0.9927 - loss: 0.0229\n",
      "Epoch 5/8\n",
      "\u001b[1m938/938\u001b[0m \u001b[32m━━━━━━━━━━━━━━━━━━━━\u001b[0m\u001b[37m\u001b[0m \u001b[1m11s\u001b[0m 12ms/step - accuracy: 0.9948 - loss: 0.0165\n",
      "Epoch 6/8\n",
      "\u001b[1m938/938\u001b[0m \u001b[32m━━━━━━━━━━━━━━━━━━━━\u001b[0m\u001b[37m\u001b[0m \u001b[1m11s\u001b[0m 12ms/step - accuracy: 0.9961 - loss: 0.0133\n",
      "Epoch 7/8\n",
      "\u001b[1m938/938\u001b[0m \u001b[32m━━━━━━━━━━━━━━━━━━━━\u001b[0m\u001b[37m\u001b[0m \u001b[1m11s\u001b[0m 12ms/step - accuracy: 0.9966 - loss: 0.0109\n",
      "Epoch 8/8\n",
      "\u001b[1m938/938\u001b[0m \u001b[32m━━━━━━━━━━━━━━━━━━━━\u001b[0m\u001b[37m\u001b[0m \u001b[1m11s\u001b[0m 12ms/step - accuracy: 0.9979 - loss: 0.0086\n"
     ]
    },
    {
     "data": {
      "text/plain": [
       "<keras.src.callbacks.history.History at 0x1fb0394c810>"
      ]
     },
     "execution_count": 28,
     "metadata": {},
     "output_type": "execute_result"
    }
   ],
   "source": [
    "model.compile(optimizer=\"rmsprop\", loss=\"sparse_categorical_crossentropy\", metrics=[\"accuracy\"])\n",
    "\n",
    "model.fit(X_train, y_train, epochs=8, batch_size=64)"
   ]
  },
  {
   "cell_type": "code",
   "execution_count": 29,
   "metadata": {},
   "outputs": [
    {
     "name": "stdout",
     "output_type": "stream",
     "text": [
      "\u001b[1m313/313\u001b[0m \u001b[32m━━━━━━━━━━━━━━━━━━━━\u001b[0m\u001b[37m\u001b[0m \u001b[1m1s\u001b[0m 3ms/step - accuracy: 0.9910 - loss: 0.0416\n"
     ]
    },
    {
     "data": {
      "text/plain": [
       "(0.030780941247940063, 0.9929999709129333)"
      ]
     },
     "execution_count": 29,
     "metadata": {},
     "output_type": "execute_result"
    }
   ],
   "source": [
    "test_loss, test_acc = model.evaluate(X_test, y_test)\n",
    "(test_loss, test_acc)"
   ]
  },
  {
   "cell_type": "code",
   "execution_count": 31,
   "metadata": {},
   "outputs": [
    {
     "name": "stdout",
     "output_type": "stream",
     "text": [
      "\u001b[1m313/313\u001b[0m \u001b[32m━━━━━━━━━━━━━━━━━━━━\u001b[0m\u001b[37m\u001b[0m \u001b[1m1s\u001b[0m 3ms/step\n",
      "              precision    recall  f1-score   support\n",
      "\n",
      "           0       0.99      1.00      0.99       980\n",
      "           1       0.99      1.00      1.00      1135\n",
      "           2       0.99      1.00      0.99      1032\n",
      "           3       0.99      1.00      0.99      1010\n",
      "           4       0.99      0.99      0.99       982\n",
      "           5       0.99      0.99      0.99       892\n",
      "           6       1.00      0.99      0.99       958\n",
      "           7       1.00      0.99      0.99      1028\n",
      "           8       0.99      0.99      0.99       974\n",
      "           9       0.99      0.99      0.99      1009\n",
      "\n",
      "    accuracy                           0.99     10000\n",
      "   macro avg       0.99      0.99      0.99     10000\n",
      "weighted avg       0.99      0.99      0.99     10000\n",
      "\n"
     ]
    },
    {
     "data": {
      "image/png": "[encoded data removed]",
      "text/plain": [
       "<Figure size 640x480 with 2 Axes>"
      ]
     },
     "metadata": {},
     "output_type": "display_data"
    }
   ],
   "source": [
    "from sklearn.metrics import classification_report, confusion_matrix, ConfusionMatrixDisplay\n",
    "import numpy as np\n",
    "\n",
    "y_pred = model.predict(X_test)\n",
    "\n",
    "y_pred = np.argmax(y_pred, axis=1)\n",
    "\n",
    "cm = confusion_matrix(y_test, y_pred)\n",
    "ConfusionMatrixDisplay(cm).plot()\n",
    "print(classification_report(y_test, y_pred))"
   ]
  },
  {
   "cell_type": "code",
   "execution_count": 34,
   "metadata": {},
   "outputs": [
    {
     "name": "stderr",
     "output_type": "stream",
     "text": [
      "c:\\Users\\maxi7\\Deep_Machinelearning\\Deep-Machinelearning\\.venv\\Lib\\site-packages\\keras\\src\\layers\\reshaping\\flatten.py:37: UserWarning: Do not pass an `input_shape`/`input_dim` argument to a layer. When using Sequential models, prefer using an `Input(shape)` object as the first layer in the model instead.\n",
      "  super().__init__(**kwargs)\n"
     ]
    },
    {
     "data": {
      "text/html": [
       "<pre style=\"white-space:pre;overflow-x:auto;line-height:normal;font-family:Menlo,'DejaVu Sans Mono',consolas,'Courier New',monospace\"><span style=\"font-weight: bold\">Model: \"MLP_model\"</span>\n",
       "</pre>\n"
      ],
      "text/plain": [
       "\u001b[1mModel: \"MLP_model\"\u001b[0m\n"
      ]
     },
     "metadata": {},
     "output_type": "display_data"
    },
    {
     "data": {
      "text/html": [
       "<pre style=\"white-space:pre;overflow-x:auto;line-height:normal;font-family:Menlo,'DejaVu Sans Mono',consolas,'Courier New',monospace\">┏━━━━━━━━━━━━━━━━━━━━━━━━━━━━━━━━━┳━━━━━━━━━━━━━━━━━━━━━━━━┳━━━━━━━━━━━━━━━┓\n",
       "┃<span style=\"font-weight: bold\"> Layer (type)                    </span>┃<span style=\"font-weight: bold\"> Output Shape           </span>┃<span style=\"font-weight: bold\">       Param # </span>┃\n",
       "┡━━━━━━━━━━━━━━━━━━━━━━━━━━━━━━━━━╇━━━━━━━━━━━━━━━━━━━━━━━━╇━━━━━━━━━━━━━━━┩\n",
       "│ Input_layer (<span style=\"color: #0087ff; text-decoration-color: #0087ff\">Flatten</span>)           │ (<span style=\"color: #00d7ff; text-decoration-color: #00d7ff\">None</span>, <span style=\"color: #00af00; text-decoration-color: #00af00\">784</span>)            │             <span style=\"color: #00af00; text-decoration-color: #00af00\">0</span> │\n",
       "├─────────────────────────────────┼────────────────────────┼───────────────┤\n",
       "│ Output_layer (<span style=\"color: #0087ff; text-decoration-color: #0087ff\">Dense</span>)            │ (<span style=\"color: #00d7ff; text-decoration-color: #00d7ff\">None</span>, <span style=\"color: #00af00; text-decoration-color: #00af00\">10</span>)             │         <span style=\"color: #00af00; text-decoration-color: #00af00\">7,850</span> │\n",
       "└─────────────────────────────────┴────────────────────────┴───────────────┘\n",
       "</pre>\n"
      ],
      "text/plain": [
       "┏━━━━━━━━━━━━━━━━━━━━━━━━━━━━━━━━━┳━━━━━━━━━━━━━━━━━━━━━━━━┳━━━━━━━━━━━━━━━┓\n",
       "┃\u001b[1m \u001b[0m\u001b[1mLayer (type)                   \u001b[0m\u001b[1m \u001b[0m┃\u001b[1m \u001b[0m\u001b[1mOutput Shape          \u001b[0m\u001b[1m \u001b[0m┃\u001b[1m \u001b[0m\u001b[1m      Param #\u001b[0m\u001b[1m \u001b[0m┃\n",
       "┡━━━━━━━━━━━━━━━━━━━━━━━━━━━━━━━━━╇━━━━━━━━━━━━━━━━━━━━━━━━╇━━━━━━━━━━━━━━━┩\n",
       "│ Input_layer (\u001b[38;5;33mFlatten\u001b[0m)           │ (\u001b[38;5;45mNone\u001b[0m, \u001b[38;5;34m784\u001b[0m)            │             \u001b[38;5;34m0\u001b[0m │\n",
       "├─────────────────────────────────┼────────────────────────┼───────────────┤\n",
       "│ Output_layer (\u001b[38;5;33mDense\u001b[0m)            │ (\u001b[38;5;45mNone\u001b[0m, \u001b[38;5;34m10\u001b[0m)             │         \u001b[38;5;34m7,850\u001b[0m │\n",
       "└─────────────────────────────────┴────────────────────────┴───────────────┘\n"
      ]
     },
     "metadata": {},
     "output_type": "display_data"
    },
    {
     "data": {
      "text/html": [
       "<pre style=\"white-space:pre;overflow-x:auto;line-height:normal;font-family:Menlo,'DejaVu Sans Mono',consolas,'Courier New',monospace\"><span style=\"font-weight: bold\"> Total params: </span><span style=\"color: #00af00; text-decoration-color: #00af00\">7,850</span> (30.66 KB)\n",
       "</pre>\n"
      ],
      "text/plain": [
       "\u001b[1m Total params: \u001b[0m\u001b[38;5;34m7,850\u001b[0m (30.66 KB)\n"
      ]
     },
     "metadata": {},
     "output_type": "display_data"
    },
    {
     "data": {
      "text/html": [
       "<pre style=\"white-space:pre;overflow-x:auto;line-height:normal;font-family:Menlo,'DejaVu Sans Mono',consolas,'Courier New',monospace\"><span style=\"font-weight: bold\"> Trainable params: </span><span style=\"color: #00af00; text-decoration-color: #00af00\">7,850</span> (30.66 KB)\n",
       "</pre>\n"
      ],
      "text/plain": [
       "\u001b[1m Trainable params: \u001b[0m\u001b[38;5;34m7,850\u001b[0m (30.66 KB)\n"
      ]
     },
     "metadata": {},
     "output_type": "display_data"
    },
    {
     "data": {
      "text/html": [
       "<pre style=\"white-space:pre;overflow-x:auto;line-height:normal;font-family:Menlo,'DejaVu Sans Mono',consolas,'Courier New',monospace\"><span style=\"font-weight: bold\"> Non-trainable params: </span><span style=\"color: #00af00; text-decoration-color: #00af00\">0</span> (0.00 B)\n",
       "</pre>\n"
      ],
      "text/plain": [
       "\u001b[1m Non-trainable params: \u001b[0m\u001b[38;5;34m0\u001b[0m (0.00 B)\n"
      ]
     },
     "metadata": {},
     "output_type": "display_data"
    }
   ],
   "source": [
    "# D)\n",
    "\n",
    "# MLP\n",
    "def MLP_model(nodes=None, names=None, activations=[]):\n",
    "    model = keras.Sequential(name=\"MLP_model\")\n",
    "    # flattens the input\n",
    "    model.add(layers.Flatten(input_shape=(28, 28), name=\"Input_layer\"))\n",
    "\n",
    "    for node, name, activation in zip(nodes, names, activations):\n",
    "        model.add(layers.Dense(node, name=name, activation=activation))\n",
    "\n",
    "    model.compile(loss=\"sparse_categorical_crossentropy\", optimizer=\"adam\",\n",
    "                  metrics=[\"accuracy\"])\n",
    "\n",
    "    return model\n",
    "\n",
    "\n",
    "model = MLP_model(nodes=[10], names=[\"Output_layer\"], activations=[\"softmax\"])\n",
    "model.summary()"
   ]
  },
  {
   "cell_type": "code",
   "execution_count": 35,
   "metadata": {},
   "outputs": [
    {
     "data": {
      "text/plain": [
       "<keras.src.callbacks.history.History at 0x1fb032e0b90>"
      ]
     },
     "execution_count": 35,
     "metadata": {},
     "output_type": "execute_result"
    }
   ],
   "source": [
    "model.fit(X_train, y_train, validation_split=1/6, epochs=20, verbose=0)"
   ]
  },
  {
   "cell_type": "code",
   "execution_count": 36,
   "metadata": {},
   "outputs": [
    {
     "name": "stderr",
     "output_type": "stream",
     "text": [
      "c:\\Users\\maxi7\\Deep_Machinelearning\\Deep-Machinelearning\\.venv\\Lib\\site-packages\\keras\\src\\layers\\reshaping\\flatten.py:37: UserWarning: Do not pass an `input_shape`/`input_dim` argument to a layer. When using Sequential models, prefer using an `Input(shape)` object as the first layer in the model instead.\n",
      "  super().__init__(**kwargs)\n"
     ]
    },
    {
     "data": {
      "text/html": [
       "<pre style=\"white-space:pre;overflow-x:auto;line-height:normal;font-family:Menlo,'DejaVu Sans Mono',consolas,'Courier New',monospace\"><span style=\"font-weight: bold\">Model: \"MLP_model\"</span>\n",
       "</pre>\n"
      ],
      "text/plain": [
       "\u001b[1mModel: \"MLP_model\"\u001b[0m\n"
      ]
     },
     "metadata": {},
     "output_type": "display_data"
    },
    {
     "data": {
      "text/html": [
       "<pre style=\"white-space:pre;overflow-x:auto;line-height:normal;font-family:Menlo,'DejaVu Sans Mono',consolas,'Courier New',monospace\">┏━━━━━━━━━━━━━━━━━━━━━━━━━━━━━━━━━┳━━━━━━━━━━━━━━━━━━━━━━━━┳━━━━━━━━━━━━━━━┓\n",
       "┃<span style=\"font-weight: bold\"> Layer (type)                    </span>┃<span style=\"font-weight: bold\"> Output Shape           </span>┃<span style=\"font-weight: bold\">       Param # </span>┃\n",
       "┡━━━━━━━━━━━━━━━━━━━━━━━━━━━━━━━━━╇━━━━━━━━━━━━━━━━━━━━━━━━╇━━━━━━━━━━━━━━━┩\n",
       "│ Input_layer (<span style=\"color: #0087ff; text-decoration-color: #0087ff\">Flatten</span>)           │ (<span style=\"color: #00d7ff; text-decoration-color: #00d7ff\">None</span>, <span style=\"color: #00af00; text-decoration-color: #00af00\">784</span>)            │             <span style=\"color: #00af00; text-decoration-color: #00af00\">0</span> │\n",
       "├─────────────────────────────────┼────────────────────────┼───────────────┤\n",
       "│ Hidden_1 (<span style=\"color: #0087ff; text-decoration-color: #0087ff\">Dense</span>)                │ (<span style=\"color: #00d7ff; text-decoration-color: #00d7ff\">None</span>, <span style=\"color: #00af00; text-decoration-color: #00af00\">128</span>)            │       <span style=\"color: #00af00; text-decoration-color: #00af00\">100,480</span> │\n",
       "├─────────────────────────────────┼────────────────────────┼───────────────┤\n",
       "│ Hidden_2 (<span style=\"color: #0087ff; text-decoration-color: #0087ff\">Dense</span>)                │ (<span style=\"color: #00d7ff; text-decoration-color: #00d7ff\">None</span>, <span style=\"color: #00af00; text-decoration-color: #00af00\">128</span>)            │        <span style=\"color: #00af00; text-decoration-color: #00af00\">16,512</span> │\n",
       "├─────────────────────────────────┼────────────────────────┼───────────────┤\n",
       "│ Output (<span style=\"color: #0087ff; text-decoration-color: #0087ff\">Dense</span>)                  │ (<span style=\"color: #00d7ff; text-decoration-color: #00d7ff\">None</span>, <span style=\"color: #00af00; text-decoration-color: #00af00\">10</span>)             │         <span style=\"color: #00af00; text-decoration-color: #00af00\">1,290</span> │\n",
       "└─────────────────────────────────┴────────────────────────┴───────────────┘\n",
       "</pre>\n"
      ],
      "text/plain": [
       "┏━━━━━━━━━━━━━━━━━━━━━━━━━━━━━━━━━┳━━━━━━━━━━━━━━━━━━━━━━━━┳━━━━━━━━━━━━━━━┓\n",
       "┃\u001b[1m \u001b[0m\u001b[1mLayer (type)                   \u001b[0m\u001b[1m \u001b[0m┃\u001b[1m \u001b[0m\u001b[1mOutput Shape          \u001b[0m\u001b[1m \u001b[0m┃\u001b[1m \u001b[0m\u001b[1m      Param #\u001b[0m\u001b[1m \u001b[0m┃\n",
       "┡━━━━━━━━━━━━━━━━━━━━━━━━━━━━━━━━━╇━━━━━━━━━━━━━━━━━━━━━━━━╇━━━━━━━━━━━━━━━┩\n",
       "│ Input_layer (\u001b[38;5;33mFlatten\u001b[0m)           │ (\u001b[38;5;45mNone\u001b[0m, \u001b[38;5;34m784\u001b[0m)            │             \u001b[38;5;34m0\u001b[0m │\n",
       "├─────────────────────────────────┼────────────────────────┼───────────────┤\n",
       "│ Hidden_1 (\u001b[38;5;33mDense\u001b[0m)                │ (\u001b[38;5;45mNone\u001b[0m, \u001b[38;5;34m128\u001b[0m)            │       \u001b[38;5;34m100,480\u001b[0m │\n",
       "├─────────────────────────────────┼────────────────────────┼───────────────┤\n",
       "│ Hidden_2 (\u001b[38;5;33mDense\u001b[0m)                │ (\u001b[38;5;45mNone\u001b[0m, \u001b[38;5;34m128\u001b[0m)            │        \u001b[38;5;34m16,512\u001b[0m │\n",
       "├─────────────────────────────────┼────────────────────────┼───────────────┤\n",
       "│ Output (\u001b[38;5;33mDense\u001b[0m)                  │ (\u001b[38;5;45mNone\u001b[0m, \u001b[38;5;34m10\u001b[0m)             │         \u001b[38;5;34m1,290\u001b[0m │\n",
       "└─────────────────────────────────┴────────────────────────┴───────────────┘\n"
      ]
     },
     "metadata": {},
     "output_type": "display_data"
    },
    {
     "data": {
      "text/html": [
       "<pre style=\"white-space:pre;overflow-x:auto;line-height:normal;font-family:Menlo,'DejaVu Sans Mono',consolas,'Courier New',monospace\"><span style=\"font-weight: bold\"> Total params: </span><span style=\"color: #00af00; text-decoration-color: #00af00\">118,282</span> (462.04 KB)\n",
       "</pre>\n"
      ],
      "text/plain": [
       "\u001b[1m Total params: \u001b[0m\u001b[38;5;34m118,282\u001b[0m (462.04 KB)\n"
      ]
     },
     "metadata": {},
     "output_type": "display_data"
    },
    {
     "data": {
      "text/html": [
       "<pre style=\"white-space:pre;overflow-x:auto;line-height:normal;font-family:Menlo,'DejaVu Sans Mono',consolas,'Courier New',monospace\"><span style=\"font-weight: bold\"> Trainable params: </span><span style=\"color: #00af00; text-decoration-color: #00af00\">118,282</span> (462.04 KB)\n",
       "</pre>\n"
      ],
      "text/plain": [
       "\u001b[1m Trainable params: \u001b[0m\u001b[38;5;34m118,282\u001b[0m (462.04 KB)\n"
      ]
     },
     "metadata": {},
     "output_type": "display_data"
    },
    {
     "data": {
      "text/html": [
       "<pre style=\"white-space:pre;overflow-x:auto;line-height:normal;font-family:Menlo,'DejaVu Sans Mono',consolas,'Courier New',monospace\"><span style=\"font-weight: bold\"> Non-trainable params: </span><span style=\"color: #00af00; text-decoration-color: #00af00\">0</span> (0.00 B)\n",
       "</pre>\n"
      ],
      "text/plain": [
       "\u001b[1m Non-trainable params: \u001b[0m\u001b[38;5;34m0\u001b[0m (0.00 B)\n"
      ]
     },
     "metadata": {},
     "output_type": "display_data"
    }
   ],
   "source": [
    "model_deep = MLP_model(nodes=[128, 128, 10], activations=[\"relu\", \"relu\",\n",
    "          \"softmax\"], names=[\"Hidden_1\", \"Hidden_2\", \"Output\"])\n",
    "\n",
    "model_deep.summary()"
   ]
  },
  {
   "cell_type": "code",
   "execution_count": 37,
   "metadata": {},
   "outputs": [
    {
     "name": "stderr",
     "output_type": "stream",
     "text": [
      "c:\\Users\\maxi7\\Deep_Machinelearning\\Deep-Machinelearning\\.venv\\Lib\\site-packages\\keras\\src\\callbacks\\early_stopping.py:155: UserWarning: Early stopping conditioned on metric `val_loss` which is not available. Available metrics are: accuracy,loss\n",
      "  current = self.get_monitor_value(logs)\n"
     ]
    },
    {
     "data": {
      "text/plain": [
       "<keras.src.callbacks.history.History at 0x1fb032c8b90>"
      ]
     },
     "execution_count": 37,
     "metadata": {},
     "output_type": "execute_result"
    }
   ],
   "source": [
    "from keras.callbacks import EarlyStopping\n",
    "\n",
    "early_stopper = EarlyStopping(monitor=\"val_loss\", mode=\"min\", patience=15)\n",
    "\n",
    "model_deep.fit(X_train, y_train, epochs=25, callbacks=[early_stopper], verbose=0)"
   ]
  },
  {
   "cell_type": "code",
   "execution_count": null,
   "metadata": {},
   "outputs": [
    {
     "name": "stdout",
     "output_type": "stream",
     "text": [
      "\u001b[1m313/313\u001b[0m \u001b[32m━━━━━━━━━━━━━━━━━━━━\u001b[0m\u001b[37m\u001b[0m \u001b[1m0s\u001b[0m 1ms/step\n",
      "              precision    recall  f1-score   support\n",
      "\n",
      "           0       0.99      0.99      0.99       980\n",
      "           1       0.99      1.00      0.99      1135\n",
      "           2       0.97      0.98      0.98      1032\n",
      "           3       0.98      0.98      0.98      1010\n",
      "           4       0.98      0.97      0.98       982\n",
      "           5       0.97      0.98      0.97       892\n",
      "           6       0.98      0.98      0.98       958\n",
      "           7       0.98      0.98      0.98      1028\n",
      "           8       0.98      0.97      0.97       974\n",
      "           9       0.98      0.98      0.98      1009\n",
      "\n",
      "    accuracy                           0.98     10000\n",
      "   macro avg       0.98      0.98      0.98     10000\n",
      "weighted avg       0.98      0.98      0.98     10000\n",
      "\n"
     ]
    },
    {
     "data": {
      "image/png": "[encoded data removed]",
      "text/plain": [
       "<Figure size 640x480 with 2 Axes>"
      ]
     },
     "metadata": {},
     "output_type": "display_data"
    }
   ],
   "source": [
    "y_pred = model_deep.predict(X_test)\n",
    "\n",
    "y_pred = np.argmax(y_pred, axis = 1)\n",
    "\n",
    "cm = confusion_matrix(y_test, y_pred)\n",
    "ConfusionMatrixDisplay(cm).plot()\n",
    "print(classification_report(y_test, y_pred))"
   ]
  },
  {
   "cell_type": "code",
   "execution_count": 42,
   "metadata": {},
   "outputs": [
    {
     "name": "stdout",
     "output_type": "stream",
     "text": [
      "KNN Accuracy: 0.9688\n"
     ]
    }
   ],
   "source": [
    "# KNN \n",
    "from sklearn.model_selection import train_test_split, GridSearchCV\n",
    "from sklearn.neighbors import KNeighborsClassifier\n",
    "from sklearn.metrics import accuracy_score\n",
    "\n",
    "X_train_knn = X_train.reshape(-1, 28*28) / 255.0\n",
    "X_test_knn = X_test.reshape(-1, 28*28) / 255.0\n",
    "\n",
    "knn = KNeighborsClassifier()\n",
    "\n",
    "knn.fit(X_train_knn, y_train)\n",
    "\n",
    "y_pred_knn = knn.predict(X_test_knn)\n",
    "\n",
    "knn_accuracy = accuracy_score(y_test, y_pred_knn)\n",
    "print(f\"KNN Accuracy: {knn_accuracy}\")"
   ]
  },
  {
   "cell_type": "code",
   "execution_count": 44,
   "metadata": {},
   "outputs": [
    {
     "name": "stdout",
     "output_type": "stream",
     "text": [
      "              precision    recall  f1-score   support\n",
      "\n",
      "           0       0.96      0.99      0.98       980\n",
      "           1       0.95      1.00      0.98      1135\n",
      "           2       0.98      0.96      0.97      1032\n",
      "           3       0.96      0.97      0.97      1010\n",
      "           4       0.98      0.96      0.97       982\n",
      "           5       0.97      0.97      0.97       892\n",
      "           6       0.98      0.99      0.98       958\n",
      "           7       0.96      0.96      0.96      1028\n",
      "           8       0.99      0.94      0.96       974\n",
      "           9       0.96      0.95      0.95      1009\n",
      "\n",
      "    accuracy                           0.97     10000\n",
      "   macro avg       0.97      0.97      0.97     10000\n",
      "weighted avg       0.97      0.97      0.97     10000\n",
      "\n"
     ]
    },
    {
     "data": {
      "image/png": "[encoded data removed]",
      "text/plain": [
       "<Figure size 640x480 with 2 Axes>"
      ]
     },
     "metadata": {},
     "output_type": "display_data"
    }
   ],
   "source": [
    "cm = confusion_matrix(y_test, y_pred_knn)\n",
    "ConfusionMatrixDisplay(cm).plot()\n",
    "print(classification_report(y_test, y_pred_knn))"
   ]
  },
  {
   "cell_type": "markdown",
   "metadata": {},
   "source": [
    "## Conclusion"
   ]
  },
  {
   "cell_type": "markdown",
   "metadata": {},
   "source": [
    "Now that i have compared the data between a CNN, MLP and KNN i can draw the conclusion that the CNN got the better accuracy overall, simple explenation would then be that a CNN is built for image classification, learning hierarchies of features like edges, corners and textures. While the MLP flattens the structure of the data, that makes it harder for the model to learn relationships between the pixels. The KNN does not learn features but directly compares pixel values. It performes a lot worse when there are many dimensions. "
   ]
  },
  {
   "cell_type": "markdown",
   "metadata": {},
   "source": [
    "# Excersise 2"
   ]
  },
  {
   "cell_type": "code",
   "execution_count": 177,
   "metadata": {},
   "outputs": [
    {
     "name": "stdout",
     "output_type": "stream",
     "text": [
      "..\\Data\\pokemons_and_types\\Images\\Images\\abomasnow.png\n",
      "..\\Data\\pokemons_and_types\\Images\\Images\\abra.png\n",
      "..\\Data\\pokemons_and_types\\Images\\Images\\absol.png\n",
      "..\\Data\\pokemons_and_types\\Images\\Images\\accelgor.png\n",
      "..\\Data\\pokemons_and_types\\Images\\Images\\aegislash-blade.png\n",
      "..\\Data\\pokemons_and_types\\Images\\Images\\aerodactyl.png\n",
      "..\\Data\\pokemons_and_types\\Images\\Images\\aggron.png\n",
      "..\\Data\\pokemons_and_types\\Images\\Images\\aipom.png\n",
      "..\\Data\\pokemons_and_types\\Images\\Images\\alakazam.png\n",
      "..\\Data\\pokemons_and_types\\Images\\Images\\alomomola.png\n",
      "..\\Data\\pokemons_and_types\\Images\\Images\\altaria.png\n",
      "..\\Data\\pokemons_and_types\\Images\\Images\\amaura.png\n",
      "..\\Data\\pokemons_and_types\\Images\\Images\\ambipom.png\n",
      "..\\Data\\pokemons_and_types\\Images\\Images\\amoonguss.png\n",
      "..\\Data\\pokemons_and_types\\Images\\Images\\ampharos.png\n",
      "..\\Data\\pokemons_and_types\\Images\\Images\\anorith.png\n",
      "..\\Data\\pokemons_and_types\\Images\\Images\\araquanid.png\n",
      "..\\Data\\pokemons_and_types\\Images\\Images\\arbok.png\n",
      "..\\Data\\pokemons_and_types\\Images\\Images\\arcanine.png\n",
      "..\\Data\\pokemons_and_types\\Images\\Images\\arceus.png\n",
      "..\\Data\\pokemons_and_types\\Images\\Images\\archen.png\n",
      "..\\Data\\pokemons_and_types\\Images\\Images\\archeops.png\n",
      "..\\Data\\pokemons_and_types\\Images\\Images\\ariados.png\n",
      "..\\Data\\pokemons_and_types\\Images\\Images\\armaldo.png\n",
      "..\\Data\\pokemons_and_types\\Images\\Images\\aromatisse.png\n",
      "..\\Data\\pokemons_and_types\\Images\\Images\\aron.png\n",
      "..\\Data\\pokemons_and_types\\Images\\Images\\articuno.png\n",
      "..\\Data\\pokemons_and_types\\Images\\Images\\audino.png\n",
      "..\\Data\\pokemons_and_types\\Images\\Images\\aurorus.png\n",
      "..\\Data\\pokemons_and_types\\Images\\Images\\avalugg.png\n",
      "..\\Data\\pokemons_and_types\\Images\\Images\\axew.png\n",
      "..\\Data\\pokemons_and_types\\Images\\Images\\azelf.png\n",
      "..\\Data\\pokemons_and_types\\Images\\Images\\azumarill.png\n",
      "..\\Data\\pokemons_and_types\\Images\\Images\\azurill.png\n",
      "..\\Data\\pokemons_and_types\\Images\\Images\\bagon.png\n",
      "..\\Data\\pokemons_and_types\\Images\\Images\\baltoy.png\n",
      "..\\Data\\pokemons_and_types\\Images\\Images\\banette.png\n",
      "..\\Data\\pokemons_and_types\\Images\\Images\\barbaracle.png\n",
      "..\\Data\\pokemons_and_types\\Images\\Images\\barboach.png\n",
      "..\\Data\\pokemons_and_types\\Images\\Images\\basculin-red-striped.png\n",
      "..\\Data\\pokemons_and_types\\Images\\Images\\bastiodon.png\n",
      "..\\Data\\pokemons_and_types\\Images\\Images\\bayleef.png\n",
      "..\\Data\\pokemons_and_types\\Images\\Images\\beartic.png\n",
      "..\\Data\\pokemons_and_types\\Images\\Images\\beautifly.png\n",
      "..\\Data\\pokemons_and_types\\Images\\Images\\beedrill.png\n",
      "..\\Data\\pokemons_and_types\\Images\\Images\\beheeyem.png\n",
      "..\\Data\\pokemons_and_types\\Images\\Images\\beldum.png\n",
      "..\\Data\\pokemons_and_types\\Images\\Images\\bellossom.png\n",
      "..\\Data\\pokemons_and_types\\Images\\Images\\bellsprout.png\n",
      "..\\Data\\pokemons_and_types\\Images\\Images\\bergmite.png\n",
      "..\\Data\\pokemons_and_types\\Images\\Images\\bewear.png\n",
      "..\\Data\\pokemons_and_types\\Images\\Images\\bibarel.png\n",
      "..\\Data\\pokemons_and_types\\Images\\Images\\bidoof.png\n",
      "..\\Data\\pokemons_and_types\\Images\\Images\\binacle.png\n",
      "..\\Data\\pokemons_and_types\\Images\\Images\\bisharp.png\n",
      "..\\Data\\pokemons_and_types\\Images\\Images\\blacephalon.png\n",
      "..\\Data\\pokemons_and_types\\Images\\Images\\blastoise.png\n",
      "..\\Data\\pokemons_and_types\\Images\\Images\\blaziken.png\n",
      "..\\Data\\pokemons_and_types\\Images\\Images\\blissey.png\n",
      "..\\Data\\pokemons_and_types\\Images\\Images\\blitzle.png\n",
      "..\\Data\\pokemons_and_types\\Images\\Images\\boldore.png\n",
      "..\\Data\\pokemons_and_types\\Images\\Images\\bonsly.png\n",
      "..\\Data\\pokemons_and_types\\Images\\Images\\bouffalant.png\n",
      "..\\Data\\pokemons_and_types\\Images\\Images\\bounsweet.png\n",
      "..\\Data\\pokemons_and_types\\Images\\Images\\braixen.png\n",
      "..\\Data\\pokemons_and_types\\Images\\Images\\braviary.png\n",
      "..\\Data\\pokemons_and_types\\Images\\Images\\breloom.png\n",
      "..\\Data\\pokemons_and_types\\Images\\Images\\brionne.png\n",
      "..\\Data\\pokemons_and_types\\Images\\Images\\bronzong.png\n",
      "..\\Data\\pokemons_and_types\\Images\\Images\\bronzor.png\n",
      "..\\Data\\pokemons_and_types\\Images\\Images\\bruxish.png\n",
      "..\\Data\\pokemons_and_types\\Images\\Images\\budew.png\n",
      "..\\Data\\pokemons_and_types\\Images\\Images\\buizel.png\n",
      "..\\Data\\pokemons_and_types\\Images\\Images\\bulbasaur.png\n",
      "..\\Data\\pokemons_and_types\\Images\\Images\\buneary.png\n",
      "..\\Data\\pokemons_and_types\\Images\\Images\\bunnelby.png\n",
      "..\\Data\\pokemons_and_types\\Images\\Images\\burmy.png\n",
      "..\\Data\\pokemons_and_types\\Images\\Images\\butterfree.png\n",
      "..\\Data\\pokemons_and_types\\Images\\Images\\buzzwole.png\n",
      "..\\Data\\pokemons_and_types\\Images\\Images\\cacnea.png\n",
      "..\\Data\\pokemons_and_types\\Images\\Images\\cacturne.png\n",
      "..\\Data\\pokemons_and_types\\Images\\Images\\camerupt.png\n",
      "..\\Data\\pokemons_and_types\\Images\\Images\\carbink.png\n",
      "..\\Data\\pokemons_and_types\\Images\\Images\\carnivine.png\n",
      "..\\Data\\pokemons_and_types\\Images\\Images\\carracosta.png\n",
      "..\\Data\\pokemons_and_types\\Images\\Images\\carvanha.png\n",
      "..\\Data\\pokemons_and_types\\Images\\Images\\cascoon.png\n",
      "..\\Data\\pokemons_and_types\\Images\\Images\\castform.png\n",
      "..\\Data\\pokemons_and_types\\Images\\Images\\caterpie.png\n",
      "..\\Data\\pokemons_and_types\\Images\\Images\\celebi.png\n",
      "..\\Data\\pokemons_and_types\\Images\\Images\\celesteela.png\n",
      "..\\Data\\pokemons_and_types\\Images\\Images\\chandelure.png\n",
      "..\\Data\\pokemons_and_types\\Images\\Images\\chansey.png\n",
      "..\\Data\\pokemons_and_types\\Images\\Images\\charizard.png\n",
      "..\\Data\\pokemons_and_types\\Images\\Images\\charjabug.png\n",
      "..\\Data\\pokemons_and_types\\Images\\Images\\charmander.png\n",
      "..\\Data\\pokemons_and_types\\Images\\Images\\charmeleon.png\n",
      "..\\Data\\pokemons_and_types\\Images\\Images\\chatot.png\n",
      "..\\Data\\pokemons_and_types\\Images\\Images\\cherrim.png\n",
      "..\\Data\\pokemons_and_types\\Images\\Images\\cherubi.png\n",
      "..\\Data\\pokemons_and_types\\Images\\Images\\chesnaught.png\n",
      "..\\Data\\pokemons_and_types\\Images\\Images\\chespin.png\n",
      "..\\Data\\pokemons_and_types\\Images\\Images\\chikorita.png\n",
      "..\\Data\\pokemons_and_types\\Images\\Images\\chimchar.png\n",
      "..\\Data\\pokemons_and_types\\Images\\Images\\chimecho.png\n",
      "..\\Data\\pokemons_and_types\\Images\\Images\\chinchou.png\n",
      "..\\Data\\pokemons_and_types\\Images\\Images\\chingling.png\n",
      "..\\Data\\pokemons_and_types\\Images\\Images\\cinccino.png\n",
      "..\\Data\\pokemons_and_types\\Images\\Images\\clamperl.png\n",
      "..\\Data\\pokemons_and_types\\Images\\Images\\clauncher.png\n",
      "..\\Data\\pokemons_and_types\\Images\\Images\\clawitzer.png\n",
      "..\\Data\\pokemons_and_types\\Images\\Images\\claydol.png\n",
      "..\\Data\\pokemons_and_types\\Images\\Images\\clefable.png\n",
      "..\\Data\\pokemons_and_types\\Images\\Images\\clefairy.png\n",
      "..\\Data\\pokemons_and_types\\Images\\Images\\cleffa.png\n",
      "..\\Data\\pokemons_and_types\\Images\\Images\\cloyster.png\n",
      "..\\Data\\pokemons_and_types\\Images\\Images\\cobalion.png\n",
      "..\\Data\\pokemons_and_types\\Images\\Images\\cofagrigus.png\n",
      "..\\Data\\pokemons_and_types\\Images\\Images\\combee.png\n",
      "..\\Data\\pokemons_and_types\\Images\\Images\\combusken.png\n",
      "..\\Data\\pokemons_and_types\\Images\\Images\\comfey.png\n",
      "..\\Data\\pokemons_and_types\\Images\\Images\\conkeldurr.png\n",
      "..\\Data\\pokemons_and_types\\Images\\Images\\corphish.png\n",
      "..\\Data\\pokemons_and_types\\Images\\Images\\corsola.png\n",
      "..\\Data\\pokemons_and_types\\Images\\Images\\cosmoem.png\n",
      "..\\Data\\pokemons_and_types\\Images\\Images\\cosmog.png\n",
      "..\\Data\\pokemons_and_types\\Images\\Images\\cottonee.png\n",
      "..\\Data\\pokemons_and_types\\Images\\Images\\crabominable.png\n",
      "..\\Data\\pokemons_and_types\\Images\\Images\\crabrawler.png\n",
      "..\\Data\\pokemons_and_types\\Images\\Images\\cradily.png\n",
      "..\\Data\\pokemons_and_types\\Images\\Images\\cranidos.png\n",
      "..\\Data\\pokemons_and_types\\Images\\Images\\crawdaunt.png\n",
      "..\\Data\\pokemons_and_types\\Images\\Images\\cresselia.png\n",
      "..\\Data\\pokemons_and_types\\Images\\Images\\croagunk.png\n",
      "..\\Data\\pokemons_and_types\\Images\\Images\\crobat.png\n",
      "..\\Data\\pokemons_and_types\\Images\\Images\\croconaw.png\n",
      "..\\Data\\pokemons_and_types\\Images\\Images\\crustle.png\n",
      "..\\Data\\pokemons_and_types\\Images\\Images\\cryogonal.png\n",
      "..\\Data\\pokemons_and_types\\Images\\Images\\cubchoo.png\n",
      "..\\Data\\pokemons_and_types\\Images\\Images\\cubone.png\n",
      "..\\Data\\pokemons_and_types\\Images\\Images\\cutiefly.png\n",
      "..\\Data\\pokemons_and_types\\Images\\Images\\cyndaquil.png\n",
      "..\\Data\\pokemons_and_types\\Images\\Images\\darkrai.png\n",
      "..\\Data\\pokemons_and_types\\Images\\Images\\darmanitan-standard.png\n",
      "..\\Data\\pokemons_and_types\\Images\\Images\\dartrix.png\n",
      "..\\Data\\pokemons_and_types\\Images\\Images\\darumaka.png\n",
      "..\\Data\\pokemons_and_types\\Images\\Images\\decidueye.png\n",
      "..\\Data\\pokemons_and_types\\Images\\Images\\dedenne.png\n",
      "..\\Data\\pokemons_and_types\\Images\\Images\\deerling.png\n",
      "..\\Data\\pokemons_and_types\\Images\\Images\\deino.png\n",
      "..\\Data\\pokemons_and_types\\Images\\Images\\delcatty.png\n",
      "..\\Data\\pokemons_and_types\\Images\\Images\\delibird.png\n",
      "..\\Data\\pokemons_and_types\\Images\\Images\\delphox.png\n",
      "..\\Data\\pokemons_and_types\\Images\\Images\\deoxys-normal.png\n",
      "..\\Data\\pokemons_and_types\\Images\\Images\\dewgong.png\n",
      "..\\Data\\pokemons_and_types\\Images\\Images\\dewott.png\n",
      "..\\Data\\pokemons_and_types\\Images\\Images\\dewpider.png\n",
      "..\\Data\\pokemons_and_types\\Images\\Images\\dhelmise.png\n",
      "..\\Data\\pokemons_and_types\\Images\\Images\\dialga.png\n",
      "..\\Data\\pokemons_and_types\\Images\\Images\\diancie.png\n",
      "..\\Data\\pokemons_and_types\\Images\\Images\\diggersby.png\n",
      "..\\Data\\pokemons_and_types\\Images\\Images\\diglett.png\n",
      "..\\Data\\pokemons_and_types\\Images\\Images\\ditto.png\n",
      "..\\Data\\pokemons_and_types\\Images\\Images\\dodrio.png\n",
      "..\\Data\\pokemons_and_types\\Images\\Images\\doduo.png\n",
      "..\\Data\\pokemons_and_types\\Images\\Images\\donphan.png\n",
      "..\\Data\\pokemons_and_types\\Images\\Images\\doublade.png\n",
      "..\\Data\\pokemons_and_types\\Images\\Images\\dragalge.png\n",
      "..\\Data\\pokemons_and_types\\Images\\Images\\dragonair.png\n",
      "..\\Data\\pokemons_and_types\\Images\\Images\\dragonite.png\n",
      "..\\Data\\pokemons_and_types\\Images\\Images\\drampa.png\n",
      "..\\Data\\pokemons_and_types\\Images\\Images\\drapion.png\n",
      "..\\Data\\pokemons_and_types\\Images\\Images\\dratini.png\n",
      "..\\Data\\pokemons_and_types\\Images\\Images\\drifblim.png\n",
      "..\\Data\\pokemons_and_types\\Images\\Images\\drifloon.png\n",
      "..\\Data\\pokemons_and_types\\Images\\Images\\drilbur.png\n",
      "..\\Data\\pokemons_and_types\\Images\\Images\\drowzee.png\n",
      "..\\Data\\pokemons_and_types\\Images\\Images\\druddigon.png\n",
      "..\\Data\\pokemons_and_types\\Images\\Images\\ducklett.png\n",
      "..\\Data\\pokemons_and_types\\Images\\Images\\dugtrio.png\n",
      "..\\Data\\pokemons_and_types\\Images\\Images\\dunsparce.png\n",
      "..\\Data\\pokemons_and_types\\Images\\Images\\duosion.png\n",
      "..\\Data\\pokemons_and_types\\Images\\Images\\durant.png\n",
      "..\\Data\\pokemons_and_types\\Images\\Images\\dusclops.png\n",
      "..\\Data\\pokemons_and_types\\Images\\Images\\dusknoir.png\n",
      "..\\Data\\pokemons_and_types\\Images\\Images\\duskull.png\n",
      "..\\Data\\pokemons_and_types\\Images\\Images\\dustox.png\n",
      "..\\Data\\pokemons_and_types\\Images\\Images\\dwebble.png\n",
      "..\\Data\\pokemons_and_types\\Images\\Images\\eelektrik.png\n",
      "..\\Data\\pokemons_and_types\\Images\\Images\\eelektross.png\n",
      "..\\Data\\pokemons_and_types\\Images\\Images\\eevee.png\n",
      "..\\Data\\pokemons_and_types\\Images\\Images\\ekans.png\n",
      "..\\Data\\pokemons_and_types\\Images\\Images\\electabuzz.png\n",
      "..\\Data\\pokemons_and_types\\Images\\Images\\electivire.png\n",
      "..\\Data\\pokemons_and_types\\Images\\Images\\electrike.png\n",
      "..\\Data\\pokemons_and_types\\Images\\Images\\electrode.png\n",
      "..\\Data\\pokemons_and_types\\Images\\Images\\elekid.png\n",
      "..\\Data\\pokemons_and_types\\Images\\Images\\elgyem.png\n",
      "..\\Data\\pokemons_and_types\\Images\\Images\\emboar.png\n",
      "..\\Data\\pokemons_and_types\\Images\\Images\\emolga.png\n",
      "..\\Data\\pokemons_and_types\\Images\\Images\\empoleon.png\n",
      "..\\Data\\pokemons_and_types\\Images\\Images\\entei.png\n",
      "..\\Data\\pokemons_and_types\\Images\\Images\\escavalier.png\n",
      "..\\Data\\pokemons_and_types\\Images\\Images\\espeon.png\n",
      "..\\Data\\pokemons_and_types\\Images\\Images\\espurr.png\n",
      "..\\Data\\pokemons_and_types\\Images\\Images\\excadrill.png\n",
      "..\\Data\\pokemons_and_types\\Images\\Images\\exeggcute.png\n",
      "..\\Data\\pokemons_and_types\\Images\\Images\\exeggutor.png\n",
      "..\\Data\\pokemons_and_types\\Images\\Images\\exploud.png\n",
      "..\\Data\\pokemons_and_types\\Images\\Images\\farfetchd.png\n",
      "..\\Data\\pokemons_and_types\\Images\\Images\\fearow.png\n",
      "..\\Data\\pokemons_and_types\\Images\\Images\\feebas.png\n",
      "..\\Data\\pokemons_and_types\\Images\\Images\\fennekin.png\n",
      "..\\Data\\pokemons_and_types\\Images\\Images\\feraligatr.png\n",
      "..\\Data\\pokemons_and_types\\Images\\Images\\ferroseed.png\n",
      "..\\Data\\pokemons_and_types\\Images\\Images\\ferrothorn.png\n",
      "..\\Data\\pokemons_and_types\\Images\\Images\\finneon.png\n",
      "..\\Data\\pokemons_and_types\\Images\\Images\\flaaffy.png\n",
      "..\\Data\\pokemons_and_types\\Images\\Images\\flabebe.png\n",
      "..\\Data\\pokemons_and_types\\Images\\Images\\flareon.png\n",
      "..\\Data\\pokemons_and_types\\Images\\Images\\fletchinder.png\n",
      "..\\Data\\pokemons_and_types\\Images\\Images\\fletchling.png\n",
      "..\\Data\\pokemons_and_types\\Images\\Images\\floatzel.png\n",
      "..\\Data\\pokemons_and_types\\Images\\Images\\floette.png\n",
      "..\\Data\\pokemons_and_types\\Images\\Images\\florges.png\n",
      "..\\Data\\pokemons_and_types\\Images\\Images\\flygon.png\n",
      "..\\Data\\pokemons_and_types\\Images\\Images\\fomantis.png\n",
      "..\\Data\\pokemons_and_types\\Images\\Images\\foongus.png\n",
      "..\\Data\\pokemons_and_types\\Images\\Images\\forretress.png\n",
      "..\\Data\\pokemons_and_types\\Images\\Images\\fraxure.png\n",
      "..\\Data\\pokemons_and_types\\Images\\Images\\frillish.png\n",
      "..\\Data\\pokemons_and_types\\Images\\Images\\froakie.png\n",
      "..\\Data\\pokemons_and_types\\Images\\Images\\frogadier.png\n",
      "..\\Data\\pokemons_and_types\\Images\\Images\\froslass.png\n",
      "..\\Data\\pokemons_and_types\\Images\\Images\\furfrou.png\n",
      "..\\Data\\pokemons_and_types\\Images\\Images\\furret.png\n",
      "..\\Data\\pokemons_and_types\\Images\\Images\\gabite.png\n",
      "..\\Data\\pokemons_and_types\\Images\\Images\\gallade.png\n",
      "..\\Data\\pokemons_and_types\\Images\\Images\\galvantula.png\n",
      "..\\Data\\pokemons_and_types\\Images\\Images\\garbodor.png\n",
      "..\\Data\\pokemons_and_types\\Images\\Images\\garchomp.png\n",
      "..\\Data\\pokemons_and_types\\Images\\Images\\gardevoir.png\n",
      "..\\Data\\pokemons_and_types\\Images\\Images\\gastly.png\n",
      "..\\Data\\pokemons_and_types\\Images\\Images\\gastrodon.png\n",
      "..\\Data\\pokemons_and_types\\Images\\Images\\genesect.png\n",
      "..\\Data\\pokemons_and_types\\Images\\Images\\gengar.png\n",
      "..\\Data\\pokemons_and_types\\Images\\Images\\geodude.png\n",
      "..\\Data\\pokemons_and_types\\Images\\Images\\gible.png\n",
      "..\\Data\\pokemons_and_types\\Images\\Images\\gigalith.png\n",
      "..\\Data\\pokemons_and_types\\Images\\Images\\girafarig.png\n",
      "..\\Data\\pokemons_and_types\\Images\\Images\\giratina-altered.png\n",
      "..\\Data\\pokemons_and_types\\Images\\Images\\glaceon.png\n",
      "..\\Data\\pokemons_and_types\\Images\\Images\\glalie.png\n",
      "..\\Data\\pokemons_and_types\\Images\\Images\\glameow.png\n",
      "..\\Data\\pokemons_and_types\\Images\\Images\\gligar.png\n",
      "..\\Data\\pokemons_and_types\\Images\\Images\\gliscor.png\n",
      "..\\Data\\pokemons_and_types\\Images\\Images\\gloom.png\n",
      "..\\Data\\pokemons_and_types\\Images\\Images\\gogoat.png\n",
      "..\\Data\\pokemons_and_types\\Images\\Images\\golbat.png\n",
      "..\\Data\\pokemons_and_types\\Images\\Images\\goldeen.png\n",
      "..\\Data\\pokemons_and_types\\Images\\Images\\golduck.png\n",
      "..\\Data\\pokemons_and_types\\Images\\Images\\golem.png\n",
      "..\\Data\\pokemons_and_types\\Images\\Images\\golett.png\n",
      "..\\Data\\pokemons_and_types\\Images\\Images\\golisopod.png\n",
      "..\\Data\\pokemons_and_types\\Images\\Images\\golurk.png\n",
      "..\\Data\\pokemons_and_types\\Images\\Images\\goodra.png\n",
      "..\\Data\\pokemons_and_types\\Images\\Images\\goomy.png\n",
      "..\\Data\\pokemons_and_types\\Images\\Images\\gorebyss.png\n",
      "..\\Data\\pokemons_and_types\\Images\\Images\\gothita.png\n",
      "..\\Data\\pokemons_and_types\\Images\\Images\\gothitelle.png\n",
      "..\\Data\\pokemons_and_types\\Images\\Images\\gothorita.png\n",
      "..\\Data\\pokemons_and_types\\Images\\Images\\gourgeist-average.png\n",
      "..\\Data\\pokemons_and_types\\Images\\Images\\granbull.png\n",
      "..\\Data\\pokemons_and_types\\Images\\Images\\graveler.png\n",
      "..\\Data\\pokemons_and_types\\Images\\Images\\greninja.png\n",
      "..\\Data\\pokemons_and_types\\Images\\Images\\grimer.png\n",
      "..\\Data\\pokemons_and_types\\Images\\Images\\grotle.png\n",
      "..\\Data\\pokemons_and_types\\Images\\Images\\groudon.png\n",
      "..\\Data\\pokemons_and_types\\Images\\Images\\grovyle.png\n",
      "..\\Data\\pokemons_and_types\\Images\\Images\\growlithe.png\n",
      "..\\Data\\pokemons_and_types\\Images\\Images\\grubbin.png\n",
      "..\\Data\\pokemons_and_types\\Images\\Images\\grumpig.png\n",
      "..\\Data\\pokemons_and_types\\Images\\Images\\gulpin.png\n",
      "..\\Data\\pokemons_and_types\\Images\\Images\\gumshoos.png\n",
      "..\\Data\\pokemons_and_types\\Images\\Images\\gurdurr.png\n",
      "..\\Data\\pokemons_and_types\\Images\\Images\\guzzlord.png\n",
      "..\\Data\\pokemons_and_types\\Images\\Images\\gyarados.png\n",
      "..\\Data\\pokemons_and_types\\Images\\Images\\hakamo-o.png\n",
      "..\\Data\\pokemons_and_types\\Images\\Images\\happiny.png\n",
      "..\\Data\\pokemons_and_types\\Images\\Images\\hariyama.png\n",
      "..\\Data\\pokemons_and_types\\Images\\Images\\haunter.png\n",
      "..\\Data\\pokemons_and_types\\Images\\Images\\hawlucha.png\n",
      "..\\Data\\pokemons_and_types\\Images\\Images\\haxorus.png\n",
      "..\\Data\\pokemons_and_types\\Images\\Images\\heatmor.png\n",
      "..\\Data\\pokemons_and_types\\Images\\Images\\heatran.png\n",
      "..\\Data\\pokemons_and_types\\Images\\Images\\heliolisk.png\n",
      "..\\Data\\pokemons_and_types\\Images\\Images\\helioptile.png\n",
      "..\\Data\\pokemons_and_types\\Images\\Images\\heracross.png\n",
      "..\\Data\\pokemons_and_types\\Images\\Images\\herdier.png\n",
      "..\\Data\\pokemons_and_types\\Images\\Images\\hippopotas.png\n",
      "..\\Data\\pokemons_and_types\\Images\\Images\\hippowdon.png\n",
      "..\\Data\\pokemons_and_types\\Images\\Images\\hitmonchan.png\n",
      "..\\Data\\pokemons_and_types\\Images\\Images\\hitmonlee.png\n",
      "..\\Data\\pokemons_and_types\\Images\\Images\\hitmontop.png\n",
      "..\\Data\\pokemons_and_types\\Images\\Images\\ho-oh.png\n",
      "..\\Data\\pokemons_and_types\\Images\\Images\\honchkrow.png\n",
      "..\\Data\\pokemons_and_types\\Images\\Images\\honedge.png\n",
      "..\\Data\\pokemons_and_types\\Images\\Images\\hoopa-confined.png\n",
      "..\\Data\\pokemons_and_types\\Images\\Images\\hoothoot.png\n",
      "..\\Data\\pokemons_and_types\\Images\\Images\\hoppip.png\n",
      "..\\Data\\pokemons_and_types\\Images\\Images\\horsea.png\n",
      "..\\Data\\pokemons_and_types\\Images\\Images\\houndoom.png\n",
      "..\\Data\\pokemons_and_types\\Images\\Images\\houndour.png\n",
      "..\\Data\\pokemons_and_types\\Images\\Images\\huntail.png\n",
      "..\\Data\\pokemons_and_types\\Images\\Images\\hydreigon.png\n",
      "..\\Data\\pokemons_and_types\\Images\\Images\\hypno.png\n",
      "..\\Data\\pokemons_and_types\\Images\\Images\\igglybuff.png\n",
      "..\\Data\\pokemons_and_types\\Images\\Images\\illumise.png\n",
      "..\\Data\\pokemons_and_types\\Images\\Images\\incineroar.png\n",
      "..\\Data\\pokemons_and_types\\Images\\Images\\infernape.png\n",
      "..\\Data\\pokemons_and_types\\Images\\Images\\inkay.png\n",
      "..\\Data\\pokemons_and_types\\Images\\Images\\ivysaur.png\n",
      "..\\Data\\pokemons_and_types\\Images\\Images\\jangmo-o.png\n",
      "..\\Data\\pokemons_and_types\\Images\\Images\\jellicent.png\n",
      "..\\Data\\pokemons_and_types\\Images\\Images\\jigglypuff.png\n",
      "..\\Data\\pokemons_and_types\\Images\\Images\\jirachi.png\n",
      "..\\Data\\pokemons_and_types\\Images\\Images\\jolteon.png\n",
      "..\\Data\\pokemons_and_types\\Images\\Images\\joltik.png\n",
      "..\\Data\\pokemons_and_types\\Images\\Images\\jumpluff.png\n",
      "..\\Data\\pokemons_and_types\\Images\\Images\\jynx.png\n",
      "..\\Data\\pokemons_and_types\\Images\\Images\\kabuto.png\n",
      "..\\Data\\pokemons_and_types\\Images\\Images\\kabutops.png\n",
      "..\\Data\\pokemons_and_types\\Images\\Images\\kadabra.png\n",
      "..\\Data\\pokemons_and_types\\Images\\Images\\kakuna.png\n",
      "..\\Data\\pokemons_and_types\\Images\\Images\\kangaskhan.png\n",
      "..\\Data\\pokemons_and_types\\Images\\Images\\karrablast.png\n",
      "..\\Data\\pokemons_and_types\\Images\\Images\\kartana.png\n",
      "..\\Data\\pokemons_and_types\\Images\\Images\\kecleon.png\n",
      "..\\Data\\pokemons_and_types\\Images\\Images\\keldeo-ordinary.png\n",
      "..\\Data\\pokemons_and_types\\Images\\Images\\kingdra.png\n",
      "..\\Data\\pokemons_and_types\\Images\\Images\\kingler.png\n",
      "..\\Data\\pokemons_and_types\\Images\\Images\\kirlia.png\n",
      "..\\Data\\pokemons_and_types\\Images\\Images\\klang.png\n",
      "..\\Data\\pokemons_and_types\\Images\\Images\\klefki.png\n",
      "..\\Data\\pokemons_and_types\\Images\\Images\\klink.png\n",
      "..\\Data\\pokemons_and_types\\Images\\Images\\klinklang.png\n",
      "..\\Data\\pokemons_and_types\\Images\\Images\\koffing.png\n",
      "..\\Data\\pokemons_and_types\\Images\\Images\\komala.png\n",
      "..\\Data\\pokemons_and_types\\Images\\Images\\kommo-o.png\n",
      "..\\Data\\pokemons_and_types\\Images\\Images\\krabby.png\n",
      "..\\Data\\pokemons_and_types\\Images\\Images\\kricketot.png\n",
      "..\\Data\\pokemons_and_types\\Images\\Images\\kricketune.png\n",
      "..\\Data\\pokemons_and_types\\Images\\Images\\krokorok.png\n",
      "..\\Data\\pokemons_and_types\\Images\\Images\\krookodile.png\n",
      "..\\Data\\pokemons_and_types\\Images\\Images\\kyogre.png\n",
      "..\\Data\\pokemons_and_types\\Images\\Images\\kyurem.png\n",
      "..\\Data\\pokemons_and_types\\Images\\Images\\lairon.png\n",
      "..\\Data\\pokemons_and_types\\Images\\Images\\lampent.png\n",
      "..\\Data\\pokemons_and_types\\Images\\Images\\landorus-incarnate.png\n",
      "..\\Data\\pokemons_and_types\\Images\\Images\\lanturn.png\n",
      "..\\Data\\pokemons_and_types\\Images\\Images\\lapras.png\n",
      "..\\Data\\pokemons_and_types\\Images\\Images\\larvesta.png\n",
      "..\\Data\\pokemons_and_types\\Images\\Images\\larvitar.png\n",
      "..\\Data\\pokemons_and_types\\Images\\Images\\latias.png\n",
      "..\\Data\\pokemons_and_types\\Images\\Images\\latios.png\n",
      "..\\Data\\pokemons_and_types\\Images\\Images\\leafeon.png\n",
      "..\\Data\\pokemons_and_types\\Images\\Images\\leavanny.png\n",
      "..\\Data\\pokemons_and_types\\Images\\Images\\ledian.png\n",
      "..\\Data\\pokemons_and_types\\Images\\Images\\ledyba.png\n",
      "..\\Data\\pokemons_and_types\\Images\\Images\\lickilicky.png\n",
      "..\\Data\\pokemons_and_types\\Images\\Images\\lickitung.png\n",
      "..\\Data\\pokemons_and_types\\Images\\Images\\liepard.png\n",
      "..\\Data\\pokemons_and_types\\Images\\Images\\lileep.png\n",
      "..\\Data\\pokemons_and_types\\Images\\Images\\lilligant.png\n",
      "..\\Data\\pokemons_and_types\\Images\\Images\\lillipup.png\n",
      "..\\Data\\pokemons_and_types\\Images\\Images\\linoone.png\n",
      "..\\Data\\pokemons_and_types\\Images\\Images\\litleo.png\n",
      "..\\Data\\pokemons_and_types\\Images\\Images\\litten.png\n",
      "..\\Data\\pokemons_and_types\\Images\\Images\\litwick.png\n",
      "..\\Data\\pokemons_and_types\\Images\\Images\\lombre.png\n",
      "..\\Data\\pokemons_and_types\\Images\\Images\\lopunny.png\n",
      "..\\Data\\pokemons_and_types\\Images\\Images\\lotad.png\n",
      "..\\Data\\pokemons_and_types\\Images\\Images\\loudred.png\n",
      "..\\Data\\pokemons_and_types\\Images\\Images\\lucario.png\n",
      "..\\Data\\pokemons_and_types\\Images\\Images\\ludicolo.png\n",
      "..\\Data\\pokemons_and_types\\Images\\Images\\lugia.png\n",
      "..\\Data\\pokemons_and_types\\Images\\Images\\lumineon.png\n",
      "..\\Data\\pokemons_and_types\\Images\\Images\\lunala.png\n",
      "..\\Data\\pokemons_and_types\\Images\\Images\\lunatone.png\n",
      "..\\Data\\pokemons_and_types\\Images\\Images\\lurantis.png\n",
      "..\\Data\\pokemons_and_types\\Images\\Images\\luvdisc.png\n",
      "..\\Data\\pokemons_and_types\\Images\\Images\\luxio.png\n",
      "..\\Data\\pokemons_and_types\\Images\\Images\\luxray.png\n",
      "..\\Data\\pokemons_and_types\\Images\\Images\\lycanroc-midday.png\n",
      "..\\Data\\pokemons_and_types\\Images\\Images\\machamp.png\n",
      "..\\Data\\pokemons_and_types\\Images\\Images\\machoke.png\n",
      "..\\Data\\pokemons_and_types\\Images\\Images\\machop.png\n",
      "..\\Data\\pokemons_and_types\\Images\\Images\\magby.png\n",
      "..\\Data\\pokemons_and_types\\Images\\Images\\magcargo.png\n",
      "..\\Data\\pokemons_and_types\\Images\\Images\\magearna.png\n",
      "..\\Data\\pokemons_and_types\\Images\\Images\\magikarp.png\n",
      "..\\Data\\pokemons_and_types\\Images\\Images\\magmar.png\n",
      "..\\Data\\pokemons_and_types\\Images\\Images\\magmortar.png\n",
      "..\\Data\\pokemons_and_types\\Images\\Images\\magnemite.png\n",
      "..\\Data\\pokemons_and_types\\Images\\Images\\magneton.png\n",
      "..\\Data\\pokemons_and_types\\Images\\Images\\magnezone.png\n",
      "..\\Data\\pokemons_and_types\\Images\\Images\\makuhita.png\n",
      "..\\Data\\pokemons_and_types\\Images\\Images\\malamar.png\n",
      "..\\Data\\pokemons_and_types\\Images\\Images\\mamoswine.png\n",
      "..\\Data\\pokemons_and_types\\Images\\Images\\manaphy.png\n",
      "..\\Data\\pokemons_and_types\\Images\\Images\\mandibuzz.png\n",
      "..\\Data\\pokemons_and_types\\Images\\Images\\manectric.png\n",
      "..\\Data\\pokemons_and_types\\Images\\Images\\mankey.png\n",
      "..\\Data\\pokemons_and_types\\Images\\Images\\mantine.png\n",
      "..\\Data\\pokemons_and_types\\Images\\Images\\mantyke.png\n",
      "..\\Data\\pokemons_and_types\\Images\\Images\\maractus.png\n",
      "..\\Data\\pokemons_and_types\\Images\\Images\\mareanie.png\n",
      "..\\Data\\pokemons_and_types\\Images\\Images\\mareep.png\n",
      "..\\Data\\pokemons_and_types\\Images\\Images\\marill.png\n",
      "..\\Data\\pokemons_and_types\\Images\\Images\\marowak.png\n",
      "..\\Data\\pokemons_and_types\\Images\\Images\\marshadow.png\n",
      "..\\Data\\pokemons_and_types\\Images\\Images\\marshtomp.png\n",
      "..\\Data\\pokemons_and_types\\Images\\Images\\masquerain.png\n",
      "..\\Data\\pokemons_and_types\\Images\\Images\\mawile.png\n",
      "..\\Data\\pokemons_and_types\\Images\\Images\\medicham.png\n",
      "..\\Data\\pokemons_and_types\\Images\\Images\\meditite.png\n",
      "..\\Data\\pokemons_and_types\\Images\\Images\\meganium.png\n",
      "..\\Data\\pokemons_and_types\\Images\\Images\\melmetal.png\n",
      "..\\Data\\pokemons_and_types\\Images\\Images\\meloetta-aria.png\n",
      "..\\Data\\pokemons_and_types\\Images\\Images\\meltan.png\n",
      "..\\Data\\pokemons_and_types\\Images\\Images\\meowstic-male.png\n",
      "..\\Data\\pokemons_and_types\\Images\\Images\\meowth.png\n",
      "..\\Data\\pokemons_and_types\\Images\\Images\\mesprit.png\n",
      "..\\Data\\pokemons_and_types\\Images\\Images\\metagross.png\n",
      "..\\Data\\pokemons_and_types\\Images\\Images\\metang.png\n",
      "..\\Data\\pokemons_and_types\\Images\\Images\\metapod.png\n",
      "..\\Data\\pokemons_and_types\\Images\\Images\\mew.png\n",
      "..\\Data\\pokemons_and_types\\Images\\Images\\mewtwo.png\n",
      "..\\Data\\pokemons_and_types\\Images\\Images\\mienfoo.png\n",
      "..\\Data\\pokemons_and_types\\Images\\Images\\mienshao.png\n",
      "..\\Data\\pokemons_and_types\\Images\\Images\\mightyena.png\n",
      "..\\Data\\pokemons_and_types\\Images\\Images\\milotic.png\n",
      "..\\Data\\pokemons_and_types\\Images\\Images\\miltank.png\n",
      "..\\Data\\pokemons_and_types\\Images\\Images\\mime-jr.png\n",
      "..\\Data\\pokemons_and_types\\Images\\Images\\mimikyu.png\n",
      "..\\Data\\pokemons_and_types\\Images\\Images\\minccino.png\n",
      "..\\Data\\pokemons_and_types\\Images\\Images\\minior-meteor.png\n",
      "..\\Data\\pokemons_and_types\\Images\\Images\\minun.png\n",
      "..\\Data\\pokemons_and_types\\Images\\Images\\misdreavus.png\n",
      "..\\Data\\pokemons_and_types\\Images\\Images\\mismagius.png\n",
      "..\\Data\\pokemons_and_types\\Images\\Images\\moltres.png\n",
      "..\\Data\\pokemons_and_types\\Images\\Images\\monferno.png\n",
      "..\\Data\\pokemons_and_types\\Images\\Images\\morelull.png\n",
      "..\\Data\\pokemons_and_types\\Images\\Images\\mothim.png\n",
      "..\\Data\\pokemons_and_types\\Images\\Images\\mr-mime.png\n",
      "..\\Data\\pokemons_and_types\\Images\\Images\\mudbray.png\n",
      "..\\Data\\pokemons_and_types\\Images\\Images\\mudkip.png\n",
      "..\\Data\\pokemons_and_types\\Images\\Images\\mudsdale.png\n",
      "..\\Data\\pokemons_and_types\\Images\\Images\\muk.png\n",
      "..\\Data\\pokemons_and_types\\Images\\Images\\munchlax.png\n",
      "..\\Data\\pokemons_and_types\\Images\\Images\\munna.png\n",
      "..\\Data\\pokemons_and_types\\Images\\Images\\murkrow.png\n",
      "..\\Data\\pokemons_and_types\\Images\\Images\\musharna.png\n",
      "..\\Data\\pokemons_and_types\\Images\\Images\\naganadel.png\n",
      "..\\Data\\pokemons_and_types\\Images\\Images\\natu.png\n",
      "..\\Data\\pokemons_and_types\\Images\\Images\\necrozma.png\n",
      "..\\Data\\pokemons_and_types\\Images\\Images\\nidoking.png\n",
      "..\\Data\\pokemons_and_types\\Images\\Images\\nidoqueen.png\n",
      "..\\Data\\pokemons_and_types\\Images\\Images\\nidoran-f.png\n",
      "..\\Data\\pokemons_and_types\\Images\\Images\\nidoran-m.png\n",
      "..\\Data\\pokemons_and_types\\Images\\Images\\nidorina.png\n",
      "..\\Data\\pokemons_and_types\\Images\\Images\\nidorino.png\n",
      "..\\Data\\pokemons_and_types\\Images\\Images\\nihilego.png\n",
      "..\\Data\\pokemons_and_types\\Images\\Images\\nincada.png\n",
      "..\\Data\\pokemons_and_types\\Images\\Images\\ninetales.png\n",
      "..\\Data\\pokemons_and_types\\Images\\Images\\ninjask.png\n",
      "..\\Data\\pokemons_and_types\\Images\\Images\\noctowl.png\n",
      "..\\Data\\pokemons_and_types\\Images\\Images\\noibat.png\n",
      "..\\Data\\pokemons_and_types\\Images\\Images\\noivern.png\n",
      "..\\Data\\pokemons_and_types\\Images\\Images\\nosepass.png\n",
      "..\\Data\\pokemons_and_types\\Images\\Images\\numel.png\n",
      "..\\Data\\pokemons_and_types\\Images\\Images\\nuzleaf.png\n",
      "..\\Data\\pokemons_and_types\\Images\\Images\\octillery.png\n",
      "..\\Data\\pokemons_and_types\\Images\\Images\\oddish.png\n",
      "..\\Data\\pokemons_and_types\\Images\\Images\\omanyte.png\n",
      "..\\Data\\pokemons_and_types\\Images\\Images\\omastar.png\n",
      "..\\Data\\pokemons_and_types\\Images\\Images\\onix.png\n",
      "..\\Data\\pokemons_and_types\\Images\\Images\\oranguru.png\n",
      "..\\Data\\pokemons_and_types\\Images\\Images\\oricorio-baile.png\n",
      "..\\Data\\pokemons_and_types\\Images\\Images\\oshawott.png\n",
      "..\\Data\\pokemons_and_types\\Images\\Images\\pachirisu.png\n",
      "..\\Data\\pokemons_and_types\\Images\\Images\\palkia.png\n",
      "..\\Data\\pokemons_and_types\\Images\\Images\\palossand.png\n",
      "..\\Data\\pokemons_and_types\\Images\\Images\\palpitoad.png\n",
      "..\\Data\\pokemons_and_types\\Images\\Images\\pancham.png\n",
      "..\\Data\\pokemons_and_types\\Images\\Images\\pangoro.png\n",
      "..\\Data\\pokemons_and_types\\Images\\Images\\panpour.png\n",
      "..\\Data\\pokemons_and_types\\Images\\Images\\pansage.png\n",
      "..\\Data\\pokemons_and_types\\Images\\Images\\pansear.png\n",
      "..\\Data\\pokemons_and_types\\Images\\Images\\paras.png\n",
      "..\\Data\\pokemons_and_types\\Images\\Images\\parasect.png\n",
      "..\\Data\\pokemons_and_types\\Images\\Images\\passimian.png\n",
      "..\\Data\\pokemons_and_types\\Images\\Images\\patrat.png\n",
      "..\\Data\\pokemons_and_types\\Images\\Images\\pawniard.png\n",
      "..\\Data\\pokemons_and_types\\Images\\Images\\pelipper.png\n",
      "..\\Data\\pokemons_and_types\\Images\\Images\\persian.png\n",
      "..\\Data\\pokemons_and_types\\Images\\Images\\petilil.png\n",
      "..\\Data\\pokemons_and_types\\Images\\Images\\phanpy.png\n",
      "..\\Data\\pokemons_and_types\\Images\\Images\\phantump.png\n",
      "..\\Data\\pokemons_and_types\\Images\\Images\\pheromosa.png\n",
      "..\\Data\\pokemons_and_types\\Images\\Images\\phione.png\n",
      "..\\Data\\pokemons_and_types\\Images\\Images\\pichu.png\n",
      "..\\Data\\pokemons_and_types\\Images\\Images\\pidgeot.png\n",
      "..\\Data\\pokemons_and_types\\Images\\Images\\pidgeotto.png\n",
      "..\\Data\\pokemons_and_types\\Images\\Images\\pidgey.png\n",
      "..\\Data\\pokemons_and_types\\Images\\Images\\pidove.png\n",
      "..\\Data\\pokemons_and_types\\Images\\Images\\pignite.png\n",
      "..\\Data\\pokemons_and_types\\Images\\Images\\pikachu.png\n",
      "..\\Data\\pokemons_and_types\\Images\\Images\\pikipek.png\n",
      "..\\Data\\pokemons_and_types\\Images\\Images\\piloswine.png\n",
      "..\\Data\\pokemons_and_types\\Images\\Images\\pineco.png\n",
      "..\\Data\\pokemons_and_types\\Images\\Images\\pinsir.png\n",
      "..\\Data\\pokemons_and_types\\Images\\Images\\piplup.png\n",
      "..\\Data\\pokemons_and_types\\Images\\Images\\plusle.png\n",
      "..\\Data\\pokemons_and_types\\Images\\Images\\poipole.png\n",
      "..\\Data\\pokemons_and_types\\Images\\Images\\politoed.png\n",
      "..\\Data\\pokemons_and_types\\Images\\Images\\poliwag.png\n",
      "..\\Data\\pokemons_and_types\\Images\\Images\\poliwhirl.png\n",
      "..\\Data\\pokemons_and_types\\Images\\Images\\poliwrath.png\n",
      "..\\Data\\pokemons_and_types\\Images\\Images\\ponyta.png\n",
      "..\\Data\\pokemons_and_types\\Images\\Images\\poochyena.png\n",
      "..\\Data\\pokemons_and_types\\Images\\Images\\popplio.png\n",
      "..\\Data\\pokemons_and_types\\Images\\Images\\porygon-z.png\n",
      "..\\Data\\pokemons_and_types\\Images\\Images\\porygon.png\n",
      "..\\Data\\pokemons_and_types\\Images\\Images\\porygon2.png\n",
      "..\\Data\\pokemons_and_types\\Images\\Images\\primarina.png\n",
      "..\\Data\\pokemons_and_types\\Images\\Images\\primeape.png\n",
      "..\\Data\\pokemons_and_types\\Images\\Images\\prinplup.png\n",
      "..\\Data\\pokemons_and_types\\Images\\Images\\probopass.png\n",
      "..\\Data\\pokemons_and_types\\Images\\Images\\psyduck.png\n",
      "..\\Data\\pokemons_and_types\\Images\\Images\\pumpkaboo-average.png\n",
      "..\\Data\\pokemons_and_types\\Images\\Images\\pupitar.png\n",
      "..\\Data\\pokemons_and_types\\Images\\Images\\purrloin.png\n",
      "..\\Data\\pokemons_and_types\\Images\\Images\\purugly.png\n",
      "..\\Data\\pokemons_and_types\\Images\\Images\\pyroar.png\n",
      "..\\Data\\pokemons_and_types\\Images\\Images\\pyukumuku.png\n",
      "..\\Data\\pokemons_and_types\\Images\\Images\\quagsire.png\n",
      "..\\Data\\pokemons_and_types\\Images\\Images\\quilava.png\n",
      "..\\Data\\pokemons_and_types\\Images\\Images\\quilladin.png\n",
      "..\\Data\\pokemons_and_types\\Images\\Images\\qwilfish.png\n",
      "..\\Data\\pokemons_and_types\\Images\\Images\\raichu.png\n",
      "..\\Data\\pokemons_and_types\\Images\\Images\\raikou.png\n",
      "..\\Data\\pokemons_and_types\\Images\\Images\\ralts.png\n",
      "..\\Data\\pokemons_and_types\\Images\\Images\\rampardos.png\n",
      "..\\Data\\pokemons_and_types\\Images\\Images\\rapidash.png\n",
      "..\\Data\\pokemons_and_types\\Images\\Images\\raticate.png\n",
      "..\\Data\\pokemons_and_types\\Images\\Images\\rattata.png\n",
      "..\\Data\\pokemons_and_types\\Images\\Images\\rayquaza.png\n",
      "..\\Data\\pokemons_and_types\\Images\\Images\\regice.png\n",
      "..\\Data\\pokemons_and_types\\Images\\Images\\regigigas.png\n",
      "..\\Data\\pokemons_and_types\\Images\\Images\\regirock.png\n",
      "..\\Data\\pokemons_and_types\\Images\\Images\\registeel.png\n",
      "..\\Data\\pokemons_and_types\\Images\\Images\\relicanth.png\n",
      "..\\Data\\pokemons_and_types\\Images\\Images\\remoraid.png\n",
      "..\\Data\\pokemons_and_types\\Images\\Images\\reshiram.png\n",
      "..\\Data\\pokemons_and_types\\Images\\Images\\reuniclus.png\n",
      "..\\Data\\pokemons_and_types\\Images\\Images\\rhydon.png\n",
      "..\\Data\\pokemons_and_types\\Images\\Images\\rhyhorn.png\n",
      "..\\Data\\pokemons_and_types\\Images\\Images\\rhyperior.png\n",
      "..\\Data\\pokemons_and_types\\Images\\Images\\ribombee.png\n",
      "..\\Data\\pokemons_and_types\\Images\\Images\\riolu.png\n",
      "..\\Data\\pokemons_and_types\\Images\\Images\\rockruff.png\n",
      "..\\Data\\pokemons_and_types\\Images\\Images\\roggenrola.png\n",
      "..\\Data\\pokemons_and_types\\Images\\Images\\roselia.png\n",
      "..\\Data\\pokemons_and_types\\Images\\Images\\roserade.png\n",
      "..\\Data\\pokemons_and_types\\Images\\Images\\rotom.png\n",
      "..\\Data\\pokemons_and_types\\Images\\Images\\rowlet.png\n",
      "..\\Data\\pokemons_and_types\\Images\\Images\\rufflet.png\n",
      "..\\Data\\pokemons_and_types\\Images\\Images\\sableye.png\n",
      "..\\Data\\pokemons_and_types\\Images\\Images\\salamence.png\n",
      "..\\Data\\pokemons_and_types\\Images\\Images\\salandit.png\n",
      "..\\Data\\pokemons_and_types\\Images\\Images\\salazzle.png\n",
      "..\\Data\\pokemons_and_types\\Images\\Images\\samurott.png\n",
      "..\\Data\\pokemons_and_types\\Images\\Images\\sandile.png\n",
      "..\\Data\\pokemons_and_types\\Images\\Images\\sandshrew.png\n",
      "..\\Data\\pokemons_and_types\\Images\\Images\\sandslash.png\n",
      "..\\Data\\pokemons_and_types\\Images\\Images\\sandygast.png\n",
      "..\\Data\\pokemons_and_types\\Images\\Images\\sawk.png\n",
      "..\\Data\\pokemons_and_types\\Images\\Images\\sawsbuck.png\n",
      "..\\Data\\pokemons_and_types\\Images\\Images\\scatterbug.png\n",
      "..\\Data\\pokemons_and_types\\Images\\Images\\sceptile.png\n",
      "..\\Data\\pokemons_and_types\\Images\\Images\\scizor.png\n",
      "..\\Data\\pokemons_and_types\\Images\\Images\\scolipede.png\n",
      "..\\Data\\pokemons_and_types\\Images\\Images\\scrafty.png\n",
      "..\\Data\\pokemons_and_types\\Images\\Images\\scraggy.png\n",
      "..\\Data\\pokemons_and_types\\Images\\Images\\scyther.png\n",
      "..\\Data\\pokemons_and_types\\Images\\Images\\seadra.png\n",
      "..\\Data\\pokemons_and_types\\Images\\Images\\seaking.png\n",
      "..\\Data\\pokemons_and_types\\Images\\Images\\sealeo.png\n",
      "..\\Data\\pokemons_and_types\\Images\\Images\\seedot.png\n",
      "..\\Data\\pokemons_and_types\\Images\\Images\\seel.png\n",
      "..\\Data\\pokemons_and_types\\Images\\Images\\seismitoad.png\n",
      "..\\Data\\pokemons_and_types\\Images\\Images\\sentret.png\n",
      "..\\Data\\pokemons_and_types\\Images\\Images\\serperior.png\n",
      "..\\Data\\pokemons_and_types\\Images\\Images\\servine.png\n",
      "..\\Data\\pokemons_and_types\\Images\\Images\\seviper.png\n",
      "..\\Data\\pokemons_and_types\\Images\\Images\\sewaddle.png\n",
      "..\\Data\\pokemons_and_types\\Images\\Images\\sharpedo.png\n",
      "..\\Data\\pokemons_and_types\\Images\\Images\\shaymin-land.png\n",
      "..\\Data\\pokemons_and_types\\Images\\Images\\shedinja.png\n",
      "..\\Data\\pokemons_and_types\\Images\\Images\\shelgon.png\n",
      "..\\Data\\pokemons_and_types\\Images\\Images\\shellder.png\n",
      "..\\Data\\pokemons_and_types\\Images\\Images\\shellos.png\n",
      "..\\Data\\pokemons_and_types\\Images\\Images\\shelmet.png\n",
      "..\\Data\\pokemons_and_types\\Images\\Images\\shieldon.png\n",
      "..\\Data\\pokemons_and_types\\Images\\Images\\shiftry.png\n",
      "..\\Data\\pokemons_and_types\\Images\\Images\\shiinotic.png\n",
      "..\\Data\\pokemons_and_types\\Images\\Images\\shinx.png\n",
      "..\\Data\\pokemons_and_types\\Images\\Images\\shroomish.png\n",
      "..\\Data\\pokemons_and_types\\Images\\Images\\shuckle.png\n",
      "..\\Data\\pokemons_and_types\\Images\\Images\\shuppet.png\n",
      "..\\Data\\pokemons_and_types\\Images\\Images\\sigilyph.png\n",
      "..\\Data\\pokemons_and_types\\Images\\Images\\silcoon.png\n",
      "..\\Data\\pokemons_and_types\\Images\\Images\\silvally.png\n",
      "..\\Data\\pokemons_and_types\\Images\\Images\\simipour.png\n",
      "..\\Data\\pokemons_and_types\\Images\\Images\\simisage.png\n",
      "..\\Data\\pokemons_and_types\\Images\\Images\\simisear.png\n",
      "..\\Data\\pokemons_and_types\\Images\\Images\\skarmory.png\n",
      "..\\Data\\pokemons_and_types\\Images\\Images\\skiddo.png\n",
      "..\\Data\\pokemons_and_types\\Images\\Images\\skiploom.png\n",
      "..\\Data\\pokemons_and_types\\Images\\Images\\skitty.png\n",
      "..\\Data\\pokemons_and_types\\Images\\Images\\skorupi.png\n",
      "..\\Data\\pokemons_and_types\\Images\\Images\\skrelp.png\n",
      "..\\Data\\pokemons_and_types\\Images\\Images\\skuntank.png\n",
      "..\\Data\\pokemons_and_types\\Images\\Images\\slaking.png\n",
      "..\\Data\\pokemons_and_types\\Images\\Images\\slakoth.png\n",
      "..\\Data\\pokemons_and_types\\Images\\Images\\sliggoo.png\n",
      "..\\Data\\pokemons_and_types\\Images\\Images\\slowbro.png\n",
      "..\\Data\\pokemons_and_types\\Images\\Images\\slowking.png\n",
      "..\\Data\\pokemons_and_types\\Images\\Images\\slowpoke.png\n",
      "..\\Data\\pokemons_and_types\\Images\\Images\\slugma.png\n",
      "..\\Data\\pokemons_and_types\\Images\\Images\\slurpuff.png\n",
      "..\\Data\\pokemons_and_types\\Images\\Images\\smeargle.png\n",
      "..\\Data\\pokemons_and_types\\Images\\Images\\smoochum.png\n",
      "..\\Data\\pokemons_and_types\\Images\\Images\\sneasel.png\n",
      "..\\Data\\pokemons_and_types\\Images\\Images\\snivy.png\n",
      "..\\Data\\pokemons_and_types\\Images\\Images\\snorlax.png\n",
      "..\\Data\\pokemons_and_types\\Images\\Images\\snorunt.png\n",
      "..\\Data\\pokemons_and_types\\Images\\Images\\snover.png\n",
      "..\\Data\\pokemons_and_types\\Images\\Images\\snubbull.png\n",
      "..\\Data\\pokemons_and_types\\Images\\Images\\solgaleo.png\n",
      "..\\Data\\pokemons_and_types\\Images\\Images\\solosis.png\n",
      "..\\Data\\pokemons_and_types\\Images\\Images\\solrock.png\n",
      "..\\Data\\pokemons_and_types\\Images\\Images\\spearow.png\n",
      "..\\Data\\pokemons_and_types\\Images\\Images\\spewpa.png\n",
      "..\\Data\\pokemons_and_types\\Images\\Images\\spheal.png\n",
      "..\\Data\\pokemons_and_types\\Images\\Images\\spinarak.png\n",
      "..\\Data\\pokemons_and_types\\Images\\Images\\spinda.png\n",
      "..\\Data\\pokemons_and_types\\Images\\Images\\spiritomb.png\n",
      "..\\Data\\pokemons_and_types\\Images\\Images\\spoink.png\n",
      "..\\Data\\pokemons_and_types\\Images\\Images\\spritzee.png\n",
      "..\\Data\\pokemons_and_types\\Images\\Images\\squirtle.png\n",
      "..\\Data\\pokemons_and_types\\Images\\Images\\stakataka.png\n",
      "..\\Data\\pokemons_and_types\\Images\\Images\\stantler.png\n",
      "..\\Data\\pokemons_and_types\\Images\\Images\\staraptor.png\n",
      "..\\Data\\pokemons_and_types\\Images\\Images\\staravia.png\n",
      "..\\Data\\pokemons_and_types\\Images\\Images\\starly.png\n",
      "..\\Data\\pokemons_and_types\\Images\\Images\\starmie.png\n",
      "..\\Data\\pokemons_and_types\\Images\\Images\\staryu.png\n",
      "..\\Data\\pokemons_and_types\\Images\\Images\\steelix.png\n",
      "..\\Data\\pokemons_and_types\\Images\\Images\\steenee.png\n",
      "..\\Data\\pokemons_and_types\\Images\\Images\\stoutland.png\n",
      "..\\Data\\pokemons_and_types\\Images\\Images\\stufful.png\n",
      "..\\Data\\pokemons_and_types\\Images\\Images\\stunfisk.png\n",
      "..\\Data\\pokemons_and_types\\Images\\Images\\stunky.png\n",
      "..\\Data\\pokemons_and_types\\Images\\Images\\sudowoodo.png\n",
      "..\\Data\\pokemons_and_types\\Images\\Images\\suicune.png\n",
      "..\\Data\\pokemons_and_types\\Images\\Images\\sunflora.png\n",
      "..\\Data\\pokemons_and_types\\Images\\Images\\sunkern.png\n",
      "..\\Data\\pokemons_and_types\\Images\\Images\\surskit.png\n",
      "..\\Data\\pokemons_and_types\\Images\\Images\\swablu.png\n",
      "..\\Data\\pokemons_and_types\\Images\\Images\\swadloon.png\n",
      "..\\Data\\pokemons_and_types\\Images\\Images\\swalot.png\n",
      "..\\Data\\pokemons_and_types\\Images\\Images\\swampert.png\n",
      "..\\Data\\pokemons_and_types\\Images\\Images\\swanna.png\n",
      "..\\Data\\pokemons_and_types\\Images\\Images\\swellow.png\n",
      "..\\Data\\pokemons_and_types\\Images\\Images\\swinub.png\n",
      "..\\Data\\pokemons_and_types\\Images\\Images\\swirlix.png\n",
      "..\\Data\\pokemons_and_types\\Images\\Images\\swoobat.png\n",
      "..\\Data\\pokemons_and_types\\Images\\Images\\sylveon.png\n",
      "..\\Data\\pokemons_and_types\\Images\\Images\\taillow.png\n",
      "..\\Data\\pokemons_and_types\\Images\\Images\\talonflame.png\n",
      "..\\Data\\pokemons_and_types\\Images\\Images\\tangela.png\n",
      "..\\Data\\pokemons_and_types\\Images\\Images\\tangrowth.png\n",
      "..\\Data\\pokemons_and_types\\Images\\Images\\tapu-bulu.png\n",
      "..\\Data\\pokemons_and_types\\Images\\Images\\tapu-fini.png\n",
      "..\\Data\\pokemons_and_types\\Images\\Images\\tapu-koko.png\n",
      "..\\Data\\pokemons_and_types\\Images\\Images\\tapu-lele.png\n",
      "..\\Data\\pokemons_and_types\\Images\\Images\\tauros.png\n",
      "..\\Data\\pokemons_and_types\\Images\\Images\\teddiursa.png\n",
      "..\\Data\\pokemons_and_types\\Images\\Images\\tentacool.png\n",
      "..\\Data\\pokemons_and_types\\Images\\Images\\tentacruel.png\n",
      "..\\Data\\pokemons_and_types\\Images\\Images\\tepig.png\n",
      "..\\Data\\pokemons_and_types\\Images\\Images\\terrakion.png\n",
      "..\\Data\\pokemons_and_types\\Images\\Images\\throh.png\n",
      "..\\Data\\pokemons_and_types\\Images\\Images\\thundurus-incarnate.png\n",
      "..\\Data\\pokemons_and_types\\Images\\Images\\timburr.png\n",
      "..\\Data\\pokemons_and_types\\Images\\Images\\tirtouga.png\n",
      "..\\Data\\pokemons_and_types\\Images\\Images\\togedemaru.png\n",
      "..\\Data\\pokemons_and_types\\Images\\Images\\togekiss.png\n",
      "..\\Data\\pokemons_and_types\\Images\\Images\\togepi.png\n",
      "..\\Data\\pokemons_and_types\\Images\\Images\\togetic.png\n",
      "..\\Data\\pokemons_and_types\\Images\\Images\\torchic.png\n",
      "..\\Data\\pokemons_and_types\\Images\\Images\\torkoal.png\n",
      "..\\Data\\pokemons_and_types\\Images\\Images\\tornadus-incarnate.png\n",
      "..\\Data\\pokemons_and_types\\Images\\Images\\torracat.png\n",
      "..\\Data\\pokemons_and_types\\Images\\Images\\torterra.png\n",
      "..\\Data\\pokemons_and_types\\Images\\Images\\totodile.png\n",
      "..\\Data\\pokemons_and_types\\Images\\Images\\toucannon.png\n",
      "..\\Data\\pokemons_and_types\\Images\\Images\\toxapex.png\n",
      "..\\Data\\pokemons_and_types\\Images\\Images\\toxicroak.png\n",
      "..\\Data\\pokemons_and_types\\Images\\Images\\tranquill.png\n",
      "..\\Data\\pokemons_and_types\\Images\\Images\\trapinch.png\n",
      "..\\Data\\pokemons_and_types\\Images\\Images\\treecko.png\n",
      "..\\Data\\pokemons_and_types\\Images\\Images\\trevenant.png\n",
      "..\\Data\\pokemons_and_types\\Images\\Images\\tropius.png\n",
      "..\\Data\\pokemons_and_types\\Images\\Images\\trubbish.png\n",
      "..\\Data\\pokemons_and_types\\Images\\Images\\trumbeak.png\n",
      "..\\Data\\pokemons_and_types\\Images\\Images\\tsareena.png\n",
      "..\\Data\\pokemons_and_types\\Images\\Images\\turtonator.png\n",
      "..\\Data\\pokemons_and_types\\Images\\Images\\turtwig.png\n",
      "..\\Data\\pokemons_and_types\\Images\\Images\\tympole.png\n",
      "..\\Data\\pokemons_and_types\\Images\\Images\\tynamo.png\n",
      "..\\Data\\pokemons_and_types\\Images\\Images\\type-null.png\n",
      "..\\Data\\pokemons_and_types\\Images\\Images\\typhlosion.png\n",
      "..\\Data\\pokemons_and_types\\Images\\Images\\tyranitar.png\n",
      "..\\Data\\pokemons_and_types\\Images\\Images\\tyrantrum.png\n",
      "..\\Data\\pokemons_and_types\\Images\\Images\\tyrogue.png\n",
      "..\\Data\\pokemons_and_types\\Images\\Images\\tyrunt.png\n",
      "..\\Data\\pokemons_and_types\\Images\\Images\\umbreon.png\n",
      "..\\Data\\pokemons_and_types\\Images\\Images\\unfezant.png\n",
      "..\\Data\\pokemons_and_types\\Images\\Images\\unown.png\n",
      "..\\Data\\pokemons_and_types\\Images\\Images\\ursaring.png\n",
      "..\\Data\\pokemons_and_types\\Images\\Images\\uxie.png\n",
      "..\\Data\\pokemons_and_types\\Images\\Images\\vanillish.png\n",
      "..\\Data\\pokemons_and_types\\Images\\Images\\vanillite.png\n",
      "..\\Data\\pokemons_and_types\\Images\\Images\\vanilluxe.png\n",
      "..\\Data\\pokemons_and_types\\Images\\Images\\vaporeon.png\n",
      "..\\Data\\pokemons_and_types\\Images\\Images\\venipede.png\n",
      "..\\Data\\pokemons_and_types\\Images\\Images\\venomoth.png\n",
      "..\\Data\\pokemons_and_types\\Images\\Images\\venonat.png\n",
      "..\\Data\\pokemons_and_types\\Images\\Images\\venusaur.png\n",
      "..\\Data\\pokemons_and_types\\Images\\Images\\vespiquen.png\n",
      "..\\Data\\pokemons_and_types\\Images\\Images\\vibrava.png\n",
      "..\\Data\\pokemons_and_types\\Images\\Images\\victini.png\n",
      "..\\Data\\pokemons_and_types\\Images\\Images\\victreebel.png\n",
      "..\\Data\\pokemons_and_types\\Images\\Images\\vigoroth.png\n",
      "..\\Data\\pokemons_and_types\\Images\\Images\\vikavolt.png\n",
      "..\\Data\\pokemons_and_types\\Images\\Images\\vileplume.png\n",
      "..\\Data\\pokemons_and_types\\Images\\Images\\virizion.png\n",
      "..\\Data\\pokemons_and_types\\Images\\Images\\vivillon.png\n",
      "..\\Data\\pokemons_and_types\\Images\\Images\\volbeat.png\n",
      "..\\Data\\pokemons_and_types\\Images\\Images\\volcanion.png\n",
      "..\\Data\\pokemons_and_types\\Images\\Images\\volcarona.png\n",
      "..\\Data\\pokemons_and_types\\Images\\Images\\voltorb.png\n",
      "..\\Data\\pokemons_and_types\\Images\\Images\\vullaby.png\n",
      "..\\Data\\pokemons_and_types\\Images\\Images\\vulpix.png\n",
      "..\\Data\\pokemons_and_types\\Images\\Images\\wailmer.png\n",
      "..\\Data\\pokemons_and_types\\Images\\Images\\wailord.png\n",
      "..\\Data\\pokemons_and_types\\Images\\Images\\walrein.png\n",
      "..\\Data\\pokemons_and_types\\Images\\Images\\wartortle.png\n",
      "..\\Data\\pokemons_and_types\\Images\\Images\\watchog.png\n",
      "..\\Data\\pokemons_and_types\\Images\\Images\\weavile.png\n",
      "..\\Data\\pokemons_and_types\\Images\\Images\\weedle.png\n",
      "..\\Data\\pokemons_and_types\\Images\\Images\\weepinbell.png\n",
      "..\\Data\\pokemons_and_types\\Images\\Images\\weezing.png\n",
      "..\\Data\\pokemons_and_types\\Images\\Images\\whimsicott.png\n",
      "..\\Data\\pokemons_and_types\\Images\\Images\\whirlipede.png\n",
      "..\\Data\\pokemons_and_types\\Images\\Images\\whiscash.png\n",
      "..\\Data\\pokemons_and_types\\Images\\Images\\whismur.png\n",
      "..\\Data\\pokemons_and_types\\Images\\Images\\wigglytuff.png\n",
      "..\\Data\\pokemons_and_types\\Images\\Images\\wimpod.png\n",
      "..\\Data\\pokemons_and_types\\Images\\Images\\wingull.png\n",
      "..\\Data\\pokemons_and_types\\Images\\Images\\wishiwashi-solo.png\n",
      "..\\Data\\pokemons_and_types\\Images\\Images\\wobbuffet.png\n",
      "..\\Data\\pokemons_and_types\\Images\\Images\\woobat.png\n",
      "..\\Data\\pokemons_and_types\\Images\\Images\\wooper.png\n",
      "..\\Data\\pokemons_and_types\\Images\\Images\\wormadam-plant.png\n",
      "..\\Data\\pokemons_and_types\\Images\\Images\\wurmple.png\n",
      "..\\Data\\pokemons_and_types\\Images\\Images\\wynaut.png\n",
      "..\\Data\\pokemons_and_types\\Images\\Images\\xatu.png\n",
      "..\\Data\\pokemons_and_types\\Images\\Images\\xerneas.png\n",
      "..\\Data\\pokemons_and_types\\Images\\Images\\xurkitree.png\n",
      "..\\Data\\pokemons_and_types\\Images\\Images\\yamask.png\n",
      "..\\Data\\pokemons_and_types\\Images\\Images\\yanma.png\n",
      "..\\Data\\pokemons_and_types\\Images\\Images\\yanmega.png\n",
      "..\\Data\\pokemons_and_types\\Images\\Images\\yungoos.png\n",
      "..\\Data\\pokemons_and_types\\Images\\Images\\yveltal.png\n",
      "..\\Data\\pokemons_and_types\\Images\\Images\\zangoose.png\n",
      "..\\Data\\pokemons_and_types\\Images\\Images\\zapdos.png\n",
      "..\\Data\\pokemons_and_types\\Images\\Images\\zebstrika.png\n",
      "..\\Data\\pokemons_and_types\\Images\\Images\\zekrom.png\n",
      "..\\Data\\pokemons_and_types\\Images\\Images\\zeraora.png\n",
      "..\\Data\\pokemons_and_types\\Images\\Images\\zigzagoon.png\n",
      "..\\Data\\pokemons_and_types\\Images\\Images\\zoroark.png\n",
      "..\\Data\\pokemons_and_types\\Images\\Images\\zorua.png\n",
      "..\\Data\\pokemons_and_types\\Images\\Images\\zubat.png\n",
      "..\\Data\\pokemons_and_types\\Images\\Images\\zweilous.png\n",
      "..\\Data\\pokemons_and_types\\Images\\Images\\zygarde-50.png\n"
     ]
    }
   ],
   "source": [
    "# A)\n",
    "import numpy as np\n",
    "import matplotlib.pyplot as plt\n",
    "import os\n",
    "import seaborn as sns\n",
    "import pandas as pd\n",
    "import shutil, pathlib\n",
    "\n",
    "sns.set_style((\"white\"))\n",
    "\n",
    "data = pd.read_csv(\"../Data/pokemon.csv\")\n",
    "\n",
    "images = pathlib.Path('../Data/pokemons_and_types/Images/Images/')\n",
    "\n",
    "# Get all image files in the directory\n",
    "image_files = [file for file in images.iterdir() if file.suffix in {'.png', '.jpg', '.jpeg'}]\n",
    "\n",
    "# Print the list of image file paths\n",
    "for image_file in image_files:\n",
    "    print(image_file)\n",
    "\n",
    "output_dir = pathlib.Path(\"Pokemons\")"
   ]
  },
  {
   "cell_type": "code",
   "execution_count": 178,
   "metadata": {},
   "outputs": [
    {
     "data": {
      "text/html": [
       "<div>\n",
       "<style scoped>\n",
       "    .dataframe tbody tr th:only-of-type {\n",
       "        vertical-align: middle;\n",
       "    }\n",
       "\n",
       "    .dataframe tbody tr th {\n",
       "        vertical-align: top;\n",
       "    }\n",
       "\n",
       "    .dataframe thead th {\n",
       "        text-align: right;\n",
       "    }\n",
       "</style>\n",
       "<table border=\"1\" class=\"dataframe\">\n",
       "  <thead>\n",
       "    <tr style=\"text-align: right;\">\n",
       "      <th></th>\n",
       "      <th>Name</th>\n",
       "      <th>Type1</th>\n",
       "      <th>Type2</th>\n",
       "      <th>Evolution</th>\n",
       "    </tr>\n",
       "  </thead>\n",
       "  <tbody>\n",
       "    <tr>\n",
       "      <th>0</th>\n",
       "      <td>bulbasaur</td>\n",
       "      <td>Grass</td>\n",
       "      <td>Poison</td>\n",
       "      <td>ivysaur</td>\n",
       "    </tr>\n",
       "    <tr>\n",
       "      <th>1</th>\n",
       "      <td>ivysaur</td>\n",
       "      <td>Grass</td>\n",
       "      <td>Poison</td>\n",
       "      <td>venusaur</td>\n",
       "    </tr>\n",
       "    <tr>\n",
       "      <th>2</th>\n",
       "      <td>venusaur</td>\n",
       "      <td>Grass</td>\n",
       "      <td>Poison</td>\n",
       "      <td>NaN</td>\n",
       "    </tr>\n",
       "    <tr>\n",
       "      <th>3</th>\n",
       "      <td>charmander</td>\n",
       "      <td>Fire</td>\n",
       "      <td>NaN</td>\n",
       "      <td>charmeleon</td>\n",
       "    </tr>\n",
       "    <tr>\n",
       "      <th>4</th>\n",
       "      <td>charmeleon</td>\n",
       "      <td>Fire</td>\n",
       "      <td>NaN</td>\n",
       "      <td>charizard</td>\n",
       "    </tr>\n",
       "  </tbody>\n",
       "</table>\n",
       "</div>"
      ],
      "text/plain": [
       "         Name  Type1   Type2   Evolution\n",
       "0   bulbasaur  Grass  Poison     ivysaur\n",
       "1     ivysaur  Grass  Poison    venusaur\n",
       "2    venusaur  Grass  Poison         NaN\n",
       "3  charmander   Fire     NaN  charmeleon\n",
       "4  charmeleon   Fire     NaN   charizard"
      ]
     },
     "execution_count": 178,
     "metadata": {},
     "output_type": "execute_result"
    }
   ],
   "source": [
    "data.head()"
   ]
  },
  {
   "cell_type": "code",
   "execution_count": 179,
   "metadata": {},
   "outputs": [],
   "source": [
    "data = data.drop(['Evolution'], axis=1)"
   ]
  },
  {
   "cell_type": "code",
   "execution_count": 180,
   "metadata": {},
   "outputs": [
    {
     "data": {
      "text/html": [
       "<div>\n",
       "<style scoped>\n",
       "    .dataframe tbody tr th:only-of-type {\n",
       "        vertical-align: middle;\n",
       "    }\n",
       "\n",
       "    .dataframe tbody tr th {\n",
       "        vertical-align: top;\n",
       "    }\n",
       "\n",
       "    .dataframe thead th {\n",
       "        text-align: right;\n",
       "    }\n",
       "</style>\n",
       "<table border=\"1\" class=\"dataframe\">\n",
       "  <thead>\n",
       "    <tr style=\"text-align: right;\">\n",
       "      <th></th>\n",
       "      <th>Name</th>\n",
       "      <th>Type1</th>\n",
       "      <th>Type2</th>\n",
       "    </tr>\n",
       "  </thead>\n",
       "  <tbody>\n",
       "    <tr>\n",
       "      <th>0</th>\n",
       "      <td>bulbasaur</td>\n",
       "      <td>Grass</td>\n",
       "      <td>Poison</td>\n",
       "    </tr>\n",
       "    <tr>\n",
       "      <th>1</th>\n",
       "      <td>ivysaur</td>\n",
       "      <td>Grass</td>\n",
       "      <td>Poison</td>\n",
       "    </tr>\n",
       "    <tr>\n",
       "      <th>2</th>\n",
       "      <td>venusaur</td>\n",
       "      <td>Grass</td>\n",
       "      <td>Poison</td>\n",
       "    </tr>\n",
       "    <tr>\n",
       "      <th>3</th>\n",
       "      <td>charmander</td>\n",
       "      <td>Fire</td>\n",
       "      <td>NaN</td>\n",
       "    </tr>\n",
       "    <tr>\n",
       "      <th>4</th>\n",
       "      <td>charmeleon</td>\n",
       "      <td>Fire</td>\n",
       "      <td>NaN</td>\n",
       "    </tr>\n",
       "  </tbody>\n",
       "</table>\n",
       "</div>"
      ],
      "text/plain": [
       "         Name  Type1   Type2\n",
       "0   bulbasaur  Grass  Poison\n",
       "1     ivysaur  Grass  Poison\n",
       "2    venusaur  Grass  Poison\n",
       "3  charmander   Fire     NaN\n",
       "4  charmeleon   Fire     NaN"
      ]
     },
     "execution_count": 180,
     "metadata": {},
     "output_type": "execute_result"
    }
   ],
   "source": [
    "data.head()"
   ]
  },
  {
   "cell_type": "code",
   "execution_count": 181,
   "metadata": {},
   "outputs": [],
   "source": [
    "data = data.sort_values(by=['Name'], ascending=True).reset_index(drop=True)"
   ]
  },
  {
   "cell_type": "code",
   "execution_count": 182,
   "metadata": {},
   "outputs": [
    {
     "data": {
      "image/png": "[encoded data removed]",
      "text/plain": [
       "<Figure size 1400x600 with 1 Axes>"
      ]
     },
     "metadata": {},
     "output_type": "display_data"
    }
   ],
   "source": [
    "X=data['Type1'].tolist()+data[\"Type2\"].tolist()\n",
    "plt.figure(figsize=(14, 6))\n",
    "sns.histplot(x=X)\n",
    "plt.title('Types of pokemon')\n",
    "plt.show()"
   ]
  },
  {
   "cell_type": "code",
   "execution_count": 186,
   "metadata": {},
   "outputs": [],
   "source": [
    "img_name = sorted(images.iterdir())  # Use images.iterdir() for Path objects\n",
    "img_paths = [str(image) for image in img_name]  # Convert to string if needed\n",
    "\n",
    "# Assign paths to the 'path' column\n",
    "data['path'] = img_paths"
   ]
  },
  {
   "cell_type": "code",
   "execution_count": 187,
   "metadata": {},
   "outputs": [
    {
     "data": {
      "text/html": [
       "<div>\n",
       "<style scoped>\n",
       "    .dataframe tbody tr th:only-of-type {\n",
       "        vertical-align: middle;\n",
       "    }\n",
       "\n",
       "    .dataframe tbody tr th {\n",
       "        vertical-align: top;\n",
       "    }\n",
       "\n",
       "    .dataframe thead th {\n",
       "        text-align: right;\n",
       "    }\n",
       "</style>\n",
       "<table border=\"1\" class=\"dataframe\">\n",
       "  <thead>\n",
       "    <tr style=\"text-align: right;\">\n",
       "      <th></th>\n",
       "      <th>Name</th>\n",
       "      <th>Type1</th>\n",
       "      <th>Type2</th>\n",
       "      <th>path</th>\n",
       "    </tr>\n",
       "  </thead>\n",
       "  <tbody>\n",
       "    <tr>\n",
       "      <th>0</th>\n",
       "      <td>abomasnow</td>\n",
       "      <td>Grass</td>\n",
       "      <td>Ice</td>\n",
       "      <td>..\\Data\\pokemons_and_types\\Images\\Images\\aboma...</td>\n",
       "    </tr>\n",
       "    <tr>\n",
       "      <th>1</th>\n",
       "      <td>abra</td>\n",
       "      <td>Psychic</td>\n",
       "      <td>NaN</td>\n",
       "      <td>..\\Data\\pokemons_and_types\\Images\\Images\\abra.png</td>\n",
       "    </tr>\n",
       "    <tr>\n",
       "      <th>2</th>\n",
       "      <td>absol</td>\n",
       "      <td>Dark</td>\n",
       "      <td>NaN</td>\n",
       "      <td>..\\Data\\pokemons_and_types\\Images\\Images\\absol...</td>\n",
       "    </tr>\n",
       "    <tr>\n",
       "      <th>3</th>\n",
       "      <td>accelgor</td>\n",
       "      <td>Bug</td>\n",
       "      <td>NaN</td>\n",
       "      <td>..\\Data\\pokemons_and_types\\Images\\Images\\accel...</td>\n",
       "    </tr>\n",
       "    <tr>\n",
       "      <th>4</th>\n",
       "      <td>aegislash-blade</td>\n",
       "      <td>Steel</td>\n",
       "      <td>Ghost</td>\n",
       "      <td>..\\Data\\pokemons_and_types\\Images\\Images\\aegis...</td>\n",
       "    </tr>\n",
       "  </tbody>\n",
       "</table>\n",
       "</div>"
      ],
      "text/plain": [
       "              Name    Type1  Type2  \\\n",
       "0        abomasnow    Grass    Ice   \n",
       "1             abra  Psychic    NaN   \n",
       "2            absol     Dark    NaN   \n",
       "3         accelgor      Bug    NaN   \n",
       "4  aegislash-blade    Steel  Ghost   \n",
       "\n",
       "                                                path  \n",
       "0  ..\\Data\\pokemons_and_types\\Images\\Images\\aboma...  \n",
       "1  ..\\Data\\pokemons_and_types\\Images\\Images\\abra.png  \n",
       "2  ..\\Data\\pokemons_and_types\\Images\\Images\\absol...  \n",
       "3  ..\\Data\\pokemons_and_types\\Images\\Images\\accel...  \n",
       "4  ..\\Data\\pokemons_and_types\\Images\\Images\\aegis...  "
      ]
     },
     "execution_count": 187,
     "metadata": {},
     "output_type": "execute_result"
    }
   ],
   "source": [
    "data.head()"
   ]
  },
  {
   "cell_type": "code",
   "execution_count": 188,
   "metadata": {},
   "outputs": [
    {
     "data": {
      "text/html": [
       "<div>\n",
       "<style scoped>\n",
       "    .dataframe tbody tr th:only-of-type {\n",
       "        vertical-align: middle;\n",
       "    }\n",
       "\n",
       "    .dataframe tbody tr th {\n",
       "        vertical-align: top;\n",
       "    }\n",
       "\n",
       "    .dataframe thead th {\n",
       "        text-align: right;\n",
       "    }\n",
       "</style>\n",
       "<table border=\"1\" class=\"dataframe\">\n",
       "  <thead>\n",
       "    <tr style=\"text-align: right;\">\n",
       "      <th></th>\n",
       "      <th>Name</th>\n",
       "      <th>Type1</th>\n",
       "      <th>Type2</th>\n",
       "      <th>path</th>\n",
       "    </tr>\n",
       "  </thead>\n",
       "  <tbody>\n",
       "    <tr>\n",
       "      <th>0</th>\n",
       "      <td>abomasnow</td>\n",
       "      <td>Grass</td>\n",
       "      <td>Ice</td>\n",
       "      <td>..\\Data\\pokemons_and_types\\Images\\Images\\aboma...</td>\n",
       "    </tr>\n",
       "    <tr>\n",
       "      <th>1</th>\n",
       "      <td>abra</td>\n",
       "      <td>Psychic</td>\n",
       "      <td></td>\n",
       "      <td>..\\Data\\pokemons_and_types\\Images\\Images\\abra.png</td>\n",
       "    </tr>\n",
       "    <tr>\n",
       "      <th>2</th>\n",
       "      <td>absol</td>\n",
       "      <td>Dark</td>\n",
       "      <td></td>\n",
       "      <td>..\\Data\\pokemons_and_types\\Images\\Images\\absol...</td>\n",
       "    </tr>\n",
       "    <tr>\n",
       "      <th>3</th>\n",
       "      <td>accelgor</td>\n",
       "      <td>Bug</td>\n",
       "      <td></td>\n",
       "      <td>..\\Data\\pokemons_and_types\\Images\\Images\\accel...</td>\n",
       "    </tr>\n",
       "    <tr>\n",
       "      <th>4</th>\n",
       "      <td>aegislash-blade</td>\n",
       "      <td>Steel</td>\n",
       "      <td>Ghost</td>\n",
       "      <td>..\\Data\\pokemons_and_types\\Images\\Images\\aegis...</td>\n",
       "    </tr>\n",
       "    <tr>\n",
       "      <th>...</th>\n",
       "      <td>...</td>\n",
       "      <td>...</td>\n",
       "      <td>...</td>\n",
       "      <td>...</td>\n",
       "    </tr>\n",
       "    <tr>\n",
       "      <th>804</th>\n",
       "      <td>zoroark</td>\n",
       "      <td>Dark</td>\n",
       "      <td></td>\n",
       "      <td>..\\Data\\pokemons_and_types\\Images\\Images\\zoroa...</td>\n",
       "    </tr>\n",
       "    <tr>\n",
       "      <th>805</th>\n",
       "      <td>zorua</td>\n",
       "      <td>Dark</td>\n",
       "      <td></td>\n",
       "      <td>..\\Data\\pokemons_and_types\\Images\\Images\\zorua...</td>\n",
       "    </tr>\n",
       "    <tr>\n",
       "      <th>806</th>\n",
       "      <td>zubat</td>\n",
       "      <td>Poison</td>\n",
       "      <td>Flying</td>\n",
       "      <td>..\\Data\\pokemons_and_types\\Images\\Images\\zubat...</td>\n",
       "    </tr>\n",
       "    <tr>\n",
       "      <th>807</th>\n",
       "      <td>zweilous</td>\n",
       "      <td>Dark</td>\n",
       "      <td>Dragon</td>\n",
       "      <td>..\\Data\\pokemons_and_types\\Images\\Images\\zweil...</td>\n",
       "    </tr>\n",
       "    <tr>\n",
       "      <th>808</th>\n",
       "      <td>zygarde-50</td>\n",
       "      <td>Dragon</td>\n",
       "      <td>Ground</td>\n",
       "      <td>..\\Data\\pokemons_and_types\\Images\\Images\\zygar...</td>\n",
       "    </tr>\n",
       "  </tbody>\n",
       "</table>\n",
       "<p>809 rows × 4 columns</p>\n",
       "</div>"
      ],
      "text/plain": [
       "                Name    Type1   Type2  \\\n",
       "0          abomasnow    Grass     Ice   \n",
       "1               abra  Psychic           \n",
       "2              absol     Dark           \n",
       "3           accelgor      Bug           \n",
       "4    aegislash-blade    Steel   Ghost   \n",
       "..               ...      ...     ...   \n",
       "804          zoroark     Dark           \n",
       "805            zorua     Dark           \n",
       "806            zubat   Poison  Flying   \n",
       "807         zweilous     Dark  Dragon   \n",
       "808       zygarde-50   Dragon  Ground   \n",
       "\n",
       "                                                  path  \n",
       "0    ..\\Data\\pokemons_and_types\\Images\\Images\\aboma...  \n",
       "1    ..\\Data\\pokemons_and_types\\Images\\Images\\abra.png  \n",
       "2    ..\\Data\\pokemons_and_types\\Images\\Images\\absol...  \n",
       "3    ..\\Data\\pokemons_and_types\\Images\\Images\\accel...  \n",
       "4    ..\\Data\\pokemons_and_types\\Images\\Images\\aegis...  \n",
       "..                                                 ...  \n",
       "804  ..\\Data\\pokemons_and_types\\Images\\Images\\zoroa...  \n",
       "805  ..\\Data\\pokemons_and_types\\Images\\Images\\zorua...  \n",
       "806  ..\\Data\\pokemons_and_types\\Images\\Images\\zubat...  \n",
       "807  ..\\Data\\pokemons_and_types\\Images\\Images\\zweil...  \n",
       "808  ..\\Data\\pokemons_and_types\\Images\\Images\\zygar...  \n",
       "\n",
       "[809 rows x 4 columns]"
      ]
     },
     "execution_count": 188,
     "metadata": {},
     "output_type": "execute_result"
    }
   ],
   "source": [
    "data.fillna(\"\")"
   ]
  },
  {
   "cell_type": "code",
   "execution_count": 189,
   "metadata": {},
   "outputs": [
    {
     "data": {
      "text/plain": [
       "array(['Grass', 'Psychic', 'Dark', 'Bug', 'Steel', 'Rock', 'Normal',\n",
       "       'Water', 'Dragon', 'Electric', 'Poison', 'Fire', 'Fairy', 'Ice',\n",
       "       'Ground', 'Ghost', 'Fighting', 'Flying'], dtype=object)"
      ]
     },
     "execution_count": 189,
     "metadata": {},
     "output_type": "execute_result"
    }
   ],
   "source": [
    "data[\"Type1\"].unique() # 18 olika typer"
   ]
  },
  {
   "cell_type": "code",
   "execution_count": 190,
   "metadata": {},
   "outputs": [
    {
     "data": {
      "text/plain": [
       "array(['Ice', nan, 'Ghost', 'Flying', 'Rock', 'Poison', 'Bug', 'Fairy',\n",
       "       'Psychic', 'Water', 'Ground', 'Steel', 'Fighting', 'Dark', 'Grass',\n",
       "       'Fire', 'Electric', 'Dragon', 'Normal'], dtype=object)"
      ]
     },
     "execution_count": 190,
     "metadata": {},
     "output_type": "execute_result"
    }
   ],
   "source": [
    "data[\"Type2\"].unique() # 19 olika typer"
   ]
  },
  {
   "cell_type": "code",
   "execution_count": 191,
   "metadata": {},
   "outputs": [
    {
     "data": {
      "image/png": "[encoded data removed]",
      "text/plain": [
       "<Figure size 1000x700 with 4 Axes>"
      ]
     },
     "metadata": {},
     "output_type": "display_data"
    }
   ],
   "source": [
    "import cv2\n",
    "\n",
    "fig = plt.figure(figsize=(10, 7))\n",
    "\n",
    "img1 = plt.imread(f\"{images}/charizard.png\")\n",
    "img2 = plt.imread(f\"{images}/gyarados.png\")\n",
    "img3 = plt.imread(f\"{images}/mewtwo.png\")\n",
    "img4 = plt.imread(f\"{images}/pikachu.png\")\n",
    "\n",
    "plt.subplot(2, 2, 1)  \n",
    "plt.imshow(img1)  \n",
    "plt.axis('off')  \n",
    "\n",
    "plt.subplot(2, 2, 2)\n",
    "plt.imshow(img2)\n",
    "plt.axis('off')\n",
    "\n",
    "plt.subplot(2, 2, 3)\n",
    "plt.imshow(img3)\n",
    "plt.axis('off')\n",
    "\n",
    "plt.subplot(2, 2, 4)\n",
    "plt.imshow(img4)\n",
    "plt.axis('off')\n",
    "\n",
    "plt.show()"
   ]
  },
  {
   "cell_type": "code",
   "execution_count": 192,
   "metadata": {},
   "outputs": [],
   "source": [
    "Type = []\n",
    "ind = []\n",
    "\n",
    "for i in range(data.shape[0]):\n",
    "    if (data.iloc[i]['Type1']=='Grass') or (data.iloc[i]['Type2']=='Grass'):\n",
    "        Type.append('Grass')\n",
    "        ind.append(1)\n",
    "    elif (data.iloc[i]['Type1']=='Water') or (data.iloc[i]['Type2']=='Water'):\n",
    "        Type.append('Water')\n",
    "        ind.append(2)\n",
    "    elif (data.iloc[i]['Type1']=='Fire') or (data.iloc[i]['Type2']=='Fire'):\n",
    "        Type.append('Fire')\n",
    "        ind.append(3)\n",
    "    elif (data.iloc[i]['Type1']=='Psychic') or (data.iloc[i]['Type2']=='Psychic'):\n",
    "        Type.append('Psychic')\n",
    "        ind.append(4)\n",
    "    elif (data.iloc[i]['Type1']=='Normal') or (data.iloc[i]['Type2']=='Normal'):\n",
    "        Type.append('Normal')\n",
    "        ind.append(5)\n",
    "    elif (data.iloc[i]['Type1']=='Ground') or (data.iloc[i]['Type2']=='Ground'):\n",
    "        Type.append('Fire')\n",
    "        ind.append(6)\n",
    "  \n",
    "    else:\n",
    "        Type.append('NaN')\n",
    "        ind.append('NaN')"
   ]
  },
  {
   "cell_type": "code",
   "execution_count": 193,
   "metadata": {},
   "outputs": [],
   "source": [
    "data[\"type\"]=Type\n",
    "data[\"ind\"]=ind\n",
    "data = data.drop(['Type1', 'Type2', 'Name'], axis=1)\n",
    "data = data[data['type']!='NaN']"
   ]
  },
  {
   "cell_type": "code",
   "execution_count": 194,
   "metadata": {},
   "outputs": [
    {
     "data": {
      "text/html": [
       "<div>\n",
       "<style scoped>\n",
       "    .dataframe tbody tr th:only-of-type {\n",
       "        vertical-align: middle;\n",
       "    }\n",
       "\n",
       "    .dataframe tbody tr th {\n",
       "        vertical-align: top;\n",
       "    }\n",
       "\n",
       "    .dataframe thead th {\n",
       "        text-align: right;\n",
       "    }\n",
       "</style>\n",
       "<table border=\"1\" class=\"dataframe\">\n",
       "  <thead>\n",
       "    <tr style=\"text-align: right;\">\n",
       "      <th></th>\n",
       "      <th>path</th>\n",
       "      <th>type</th>\n",
       "      <th>ind</th>\n",
       "    </tr>\n",
       "  </thead>\n",
       "  <tbody>\n",
       "    <tr>\n",
       "      <th>0</th>\n",
       "      <td>..\\Data\\pokemons_and_types\\Images\\Images\\aboma...</td>\n",
       "      <td>Grass</td>\n",
       "      <td>1</td>\n",
       "    </tr>\n",
       "    <tr>\n",
       "      <th>1</th>\n",
       "      <td>..\\Data\\pokemons_and_types\\Images\\Images\\abra.png</td>\n",
       "      <td>Psychic</td>\n",
       "      <td>4</td>\n",
       "    </tr>\n",
       "    <tr>\n",
       "      <th>7</th>\n",
       "      <td>..\\Data\\pokemons_and_types\\Images\\Images\\aipom...</td>\n",
       "      <td>Normal</td>\n",
       "      <td>5</td>\n",
       "    </tr>\n",
       "    <tr>\n",
       "      <th>8</th>\n",
       "      <td>..\\Data\\pokemons_and_types\\Images\\Images\\alaka...</td>\n",
       "      <td>Psychic</td>\n",
       "      <td>4</td>\n",
       "    </tr>\n",
       "    <tr>\n",
       "      <th>9</th>\n",
       "      <td>..\\Data\\pokemons_and_types\\Images\\Images\\alomo...</td>\n",
       "      <td>Water</td>\n",
       "      <td>2</td>\n",
       "    </tr>\n",
       "  </tbody>\n",
       "</table>\n",
       "</div>"
      ],
      "text/plain": [
       "                                                path     type ind\n",
       "0  ..\\Data\\pokemons_and_types\\Images\\Images\\aboma...    Grass   1\n",
       "1  ..\\Data\\pokemons_and_types\\Images\\Images\\abra.png  Psychic   4\n",
       "7  ..\\Data\\pokemons_and_types\\Images\\Images\\aipom...   Normal   5\n",
       "8  ..\\Data\\pokemons_and_types\\Images\\Images\\alaka...  Psychic   4\n",
       "9  ..\\Data\\pokemons_and_types\\Images\\Images\\alomo...    Water   2"
      ]
     },
     "execution_count": 194,
     "metadata": {},
     "output_type": "execute_result"
    }
   ],
   "source": [
    "data.head()"
   ]
  },
  {
   "cell_type": "code",
   "execution_count": 195,
   "metadata": {},
   "outputs": [
    {
     "data": {
      "text/plain": [
       "Text(0, 0.5, 'Number of images')"
      ]
     },
     "execution_count": 195,
     "metadata": {},
     "output_type": "execute_result"
    },
    {
     "data": {
      "image/png": "[encoded data removed]",
      "text/plain": [
       "<Figure size 640x480 with 1 Axes>"
      ]
     },
     "metadata": {},
     "output_type": "display_data"
    }
   ],
   "source": [
    "sns.countplot(x=data.type,)\n",
    "plt.title('Pokemons type')\n",
    "plt.ylabel('Number of images')"
   ]
  },
  {
   "cell_type": "code",
   "execution_count": 198,
   "metadata": {},
   "outputs": [
    {
     "data": {
      "text/html": [
       "<pre style=\"white-space:pre;overflow-x:auto;line-height:normal;font-family:Menlo,'DejaVu Sans Mono',consolas,'Courier New',monospace\"><span style=\"font-weight: bold\">Model: \"functional_3\"</span>\n",
       "</pre>\n"
      ],
      "text/plain": [
       "\u001b[1mModel: \"functional_3\"\u001b[0m\n"
      ]
     },
     "metadata": {},
     "output_type": "display_data"
    },
    {
     "data": {
      "text/html": [
       "<pre style=\"white-space:pre;overflow-x:auto;line-height:normal;font-family:Menlo,'DejaVu Sans Mono',consolas,'Courier New',monospace\">┏━━━━━━━━━━━━━━━━━━━━━━━━━━━━━━━━━┳━━━━━━━━━━━━━━━━━━━━━━━━┳━━━━━━━━━━━━━━━┓\n",
       "┃<span style=\"font-weight: bold\"> Layer (type)                    </span>┃<span style=\"font-weight: bold\"> Output Shape           </span>┃<span style=\"font-weight: bold\">       Param # </span>┃\n",
       "┡━━━━━━━━━━━━━━━━━━━━━━━━━━━━━━━━━╇━━━━━━━━━━━━━━━━━━━━━━━━╇━━━━━━━━━━━━━━━┩\n",
       "│ input_layer_4 (<span style=\"color: #0087ff; text-decoration-color: #0087ff\">InputLayer</span>)      │ (<span style=\"color: #00d7ff; text-decoration-color: #00d7ff\">None</span>, <span style=\"color: #00af00; text-decoration-color: #00af00\">180</span>, <span style=\"color: #00af00; text-decoration-color: #00af00\">180</span>, <span style=\"color: #00af00; text-decoration-color: #00af00\">3</span>)    │             <span style=\"color: #00af00; text-decoration-color: #00af00\">0</span> │\n",
       "├─────────────────────────────────┼────────────────────────┼───────────────┤\n",
       "│ rescaling_4 (<span style=\"color: #0087ff; text-decoration-color: #0087ff\">Rescaling</span>)         │ (<span style=\"color: #00d7ff; text-decoration-color: #00d7ff\">None</span>, <span style=\"color: #00af00; text-decoration-color: #00af00\">180</span>, <span style=\"color: #00af00; text-decoration-color: #00af00\">180</span>, <span style=\"color: #00af00; text-decoration-color: #00af00\">3</span>)    │             <span style=\"color: #00af00; text-decoration-color: #00af00\">0</span> │\n",
       "├─────────────────────────────────┼────────────────────────┼───────────────┤\n",
       "│ conv2d_15 (<span style=\"color: #0087ff; text-decoration-color: #0087ff\">Conv2D</span>)              │ (<span style=\"color: #00d7ff; text-decoration-color: #00d7ff\">None</span>, <span style=\"color: #00af00; text-decoration-color: #00af00\">178</span>, <span style=\"color: #00af00; text-decoration-color: #00af00\">178</span>, <span style=\"color: #00af00; text-decoration-color: #00af00\">32</span>)   │           <span style=\"color: #00af00; text-decoration-color: #00af00\">896</span> │\n",
       "├─────────────────────────────────┼────────────────────────┼───────────────┤\n",
       "│ max_pooling2d_15 (<span style=\"color: #0087ff; text-decoration-color: #0087ff\">MaxPooling2D</span>) │ (<span style=\"color: #00d7ff; text-decoration-color: #00d7ff\">None</span>, <span style=\"color: #00af00; text-decoration-color: #00af00\">89</span>, <span style=\"color: #00af00; text-decoration-color: #00af00\">89</span>, <span style=\"color: #00af00; text-decoration-color: #00af00\">32</span>)     │             <span style=\"color: #00af00; text-decoration-color: #00af00\">0</span> │\n",
       "├─────────────────────────────────┼────────────────────────┼───────────────┤\n",
       "│ conv2d_16 (<span style=\"color: #0087ff; text-decoration-color: #0087ff\">Conv2D</span>)              │ (<span style=\"color: #00d7ff; text-decoration-color: #00d7ff\">None</span>, <span style=\"color: #00af00; text-decoration-color: #00af00\">87</span>, <span style=\"color: #00af00; text-decoration-color: #00af00\">87</span>, <span style=\"color: #00af00; text-decoration-color: #00af00\">64</span>)     │        <span style=\"color: #00af00; text-decoration-color: #00af00\">18,496</span> │\n",
       "├─────────────────────────────────┼────────────────────────┼───────────────┤\n",
       "│ max_pooling2d_16 (<span style=\"color: #0087ff; text-decoration-color: #0087ff\">MaxPooling2D</span>) │ (<span style=\"color: #00d7ff; text-decoration-color: #00d7ff\">None</span>, <span style=\"color: #00af00; text-decoration-color: #00af00\">43</span>, <span style=\"color: #00af00; text-decoration-color: #00af00\">43</span>, <span style=\"color: #00af00; text-decoration-color: #00af00\">64</span>)     │             <span style=\"color: #00af00; text-decoration-color: #00af00\">0</span> │\n",
       "├─────────────────────────────────┼────────────────────────┼───────────────┤\n",
       "│ conv2d_17 (<span style=\"color: #0087ff; text-decoration-color: #0087ff\">Conv2D</span>)              │ (<span style=\"color: #00d7ff; text-decoration-color: #00d7ff\">None</span>, <span style=\"color: #00af00; text-decoration-color: #00af00\">41</span>, <span style=\"color: #00af00; text-decoration-color: #00af00\">41</span>, <span style=\"color: #00af00; text-decoration-color: #00af00\">128</span>)    │        <span style=\"color: #00af00; text-decoration-color: #00af00\">73,856</span> │\n",
       "├─────────────────────────────────┼────────────────────────┼───────────────┤\n",
       "│ max_pooling2d_17 (<span style=\"color: #0087ff; text-decoration-color: #0087ff\">MaxPooling2D</span>) │ (<span style=\"color: #00d7ff; text-decoration-color: #00d7ff\">None</span>, <span style=\"color: #00af00; text-decoration-color: #00af00\">20</span>, <span style=\"color: #00af00; text-decoration-color: #00af00\">20</span>, <span style=\"color: #00af00; text-decoration-color: #00af00\">128</span>)    │             <span style=\"color: #00af00; text-decoration-color: #00af00\">0</span> │\n",
       "├─────────────────────────────────┼────────────────────────┼───────────────┤\n",
       "│ conv2d_18 (<span style=\"color: #0087ff; text-decoration-color: #0087ff\">Conv2D</span>)              │ (<span style=\"color: #00d7ff; text-decoration-color: #00d7ff\">None</span>, <span style=\"color: #00af00; text-decoration-color: #00af00\">18</span>, <span style=\"color: #00af00; text-decoration-color: #00af00\">18</span>, <span style=\"color: #00af00; text-decoration-color: #00af00\">256</span>)    │       <span style=\"color: #00af00; text-decoration-color: #00af00\">295,168</span> │\n",
       "├─────────────────────────────────┼────────────────────────┼───────────────┤\n",
       "│ max_pooling2d_18 (<span style=\"color: #0087ff; text-decoration-color: #0087ff\">MaxPooling2D</span>) │ (<span style=\"color: #00d7ff; text-decoration-color: #00d7ff\">None</span>, <span style=\"color: #00af00; text-decoration-color: #00af00\">9</span>, <span style=\"color: #00af00; text-decoration-color: #00af00\">9</span>, <span style=\"color: #00af00; text-decoration-color: #00af00\">256</span>)      │             <span style=\"color: #00af00; text-decoration-color: #00af00\">0</span> │\n",
       "├─────────────────────────────────┼────────────────────────┼───────────────┤\n",
       "│ conv2d_19 (<span style=\"color: #0087ff; text-decoration-color: #0087ff\">Conv2D</span>)              │ (<span style=\"color: #00d7ff; text-decoration-color: #00d7ff\">None</span>, <span style=\"color: #00af00; text-decoration-color: #00af00\">7</span>, <span style=\"color: #00af00; text-decoration-color: #00af00\">7</span>, <span style=\"color: #00af00; text-decoration-color: #00af00\">256</span>)      │       <span style=\"color: #00af00; text-decoration-color: #00af00\">590,080</span> │\n",
       "├─────────────────────────────────┼────────────────────────┼───────────────┤\n",
       "│ max_pooling2d_19 (<span style=\"color: #0087ff; text-decoration-color: #0087ff\">MaxPooling2D</span>) │ (<span style=\"color: #00d7ff; text-decoration-color: #00d7ff\">None</span>, <span style=\"color: #00af00; text-decoration-color: #00af00\">3</span>, <span style=\"color: #00af00; text-decoration-color: #00af00\">3</span>, <span style=\"color: #00af00; text-decoration-color: #00af00\">256</span>)      │             <span style=\"color: #00af00; text-decoration-color: #00af00\">0</span> │\n",
       "├─────────────────────────────────┼────────────────────────┼───────────────┤\n",
       "│ flatten_3 (<span style=\"color: #0087ff; text-decoration-color: #0087ff\">Flatten</span>)             │ (<span style=\"color: #00d7ff; text-decoration-color: #00d7ff\">None</span>, <span style=\"color: #00af00; text-decoration-color: #00af00\">2304</span>)           │             <span style=\"color: #00af00; text-decoration-color: #00af00\">0</span> │\n",
       "├─────────────────────────────────┼────────────────────────┼───────────────┤\n",
       "│ dense_3 (<span style=\"color: #0087ff; text-decoration-color: #0087ff\">Dense</span>)                 │ (<span style=\"color: #00d7ff; text-decoration-color: #00d7ff\">None</span>, <span style=\"color: #00af00; text-decoration-color: #00af00\">1</span>)              │         <span style=\"color: #00af00; text-decoration-color: #00af00\">2,305</span> │\n",
       "└─────────────────────────────────┴────────────────────────┴───────────────┘\n",
       "</pre>\n"
      ],
      "text/plain": [
       "┏━━━━━━━━━━━━━━━━━━━━━━━━━━━━━━━━━┳━━━━━━━━━━━━━━━━━━━━━━━━┳━━━━━━━━━━━━━━━┓\n",
       "┃\u001b[1m \u001b[0m\u001b[1mLayer (type)                   \u001b[0m\u001b[1m \u001b[0m┃\u001b[1m \u001b[0m\u001b[1mOutput Shape          \u001b[0m\u001b[1m \u001b[0m┃\u001b[1m \u001b[0m\u001b[1m      Param #\u001b[0m\u001b[1m \u001b[0m┃\n",
       "┡━━━━━━━━━━━━━━━━━━━━━━━━━━━━━━━━━╇━━━━━━━━━━━━━━━━━━━━━━━━╇━━━━━━━━━━━━━━━┩\n",
       "│ input_layer_4 (\u001b[38;5;33mInputLayer\u001b[0m)      │ (\u001b[38;5;45mNone\u001b[0m, \u001b[38;5;34m180\u001b[0m, \u001b[38;5;34m180\u001b[0m, \u001b[38;5;34m3\u001b[0m)    │             \u001b[38;5;34m0\u001b[0m │\n",
       "├─────────────────────────────────┼────────────────────────┼───────────────┤\n",
       "│ rescaling_4 (\u001b[38;5;33mRescaling\u001b[0m)         │ (\u001b[38;5;45mNone\u001b[0m, \u001b[38;5;34m180\u001b[0m, \u001b[38;5;34m180\u001b[0m, \u001b[38;5;34m3\u001b[0m)    │             \u001b[38;5;34m0\u001b[0m │\n",
       "├─────────────────────────────────┼────────────────────────┼───────────────┤\n",
       "│ conv2d_15 (\u001b[38;5;33mConv2D\u001b[0m)              │ (\u001b[38;5;45mNone\u001b[0m, \u001b[38;5;34m178\u001b[0m, \u001b[38;5;34m178\u001b[0m, \u001b[38;5;34m32\u001b[0m)   │           \u001b[38;5;34m896\u001b[0m │\n",
       "├─────────────────────────────────┼────────────────────────┼───────────────┤\n",
       "│ max_pooling2d_15 (\u001b[38;5;33mMaxPooling2D\u001b[0m) │ (\u001b[38;5;45mNone\u001b[0m, \u001b[38;5;34m89\u001b[0m, \u001b[38;5;34m89\u001b[0m, \u001b[38;5;34m32\u001b[0m)     │             \u001b[38;5;34m0\u001b[0m │\n",
       "├─────────────────────────────────┼────────────────────────┼───────────────┤\n",
       "│ conv2d_16 (\u001b[38;5;33mConv2D\u001b[0m)              │ (\u001b[38;5;45mNone\u001b[0m, \u001b[38;5;34m87\u001b[0m, \u001b[38;5;34m87\u001b[0m, \u001b[38;5;34m64\u001b[0m)     │        \u001b[38;5;34m18,496\u001b[0m │\n",
       "├─────────────────────────────────┼────────────────────────┼───────────────┤\n",
       "│ max_pooling2d_16 (\u001b[38;5;33mMaxPooling2D\u001b[0m) │ (\u001b[38;5;45mNone\u001b[0m, \u001b[38;5;34m43\u001b[0m, \u001b[38;5;34m43\u001b[0m, \u001b[38;5;34m64\u001b[0m)     │             \u001b[38;5;34m0\u001b[0m │\n",
       "├─────────────────────────────────┼────────────────────────┼───────────────┤\n",
       "│ conv2d_17 (\u001b[38;5;33mConv2D\u001b[0m)              │ (\u001b[38;5;45mNone\u001b[0m, \u001b[38;5;34m41\u001b[0m, \u001b[38;5;34m41\u001b[0m, \u001b[38;5;34m128\u001b[0m)    │        \u001b[38;5;34m73,856\u001b[0m │\n",
       "├─────────────────────────────────┼────────────────────────┼───────────────┤\n",
       "│ max_pooling2d_17 (\u001b[38;5;33mMaxPooling2D\u001b[0m) │ (\u001b[38;5;45mNone\u001b[0m, \u001b[38;5;34m20\u001b[0m, \u001b[38;5;34m20\u001b[0m, \u001b[38;5;34m128\u001b[0m)    │             \u001b[38;5;34m0\u001b[0m │\n",
       "├─────────────────────────────────┼────────────────────────┼───────────────┤\n",
       "│ conv2d_18 (\u001b[38;5;33mConv2D\u001b[0m)              │ (\u001b[38;5;45mNone\u001b[0m, \u001b[38;5;34m18\u001b[0m, \u001b[38;5;34m18\u001b[0m, \u001b[38;5;34m256\u001b[0m)    │       \u001b[38;5;34m295,168\u001b[0m │\n",
       "├─────────────────────────────────┼────────────────────────┼───────────────┤\n",
       "│ max_pooling2d_18 (\u001b[38;5;33mMaxPooling2D\u001b[0m) │ (\u001b[38;5;45mNone\u001b[0m, \u001b[38;5;34m9\u001b[0m, \u001b[38;5;34m9\u001b[0m, \u001b[38;5;34m256\u001b[0m)      │             \u001b[38;5;34m0\u001b[0m │\n",
       "├─────────────────────────────────┼────────────────────────┼───────────────┤\n",
       "│ conv2d_19 (\u001b[38;5;33mConv2D\u001b[0m)              │ (\u001b[38;5;45mNone\u001b[0m, \u001b[38;5;34m7\u001b[0m, \u001b[38;5;34m7\u001b[0m, \u001b[38;5;34m256\u001b[0m)      │       \u001b[38;5;34m590,080\u001b[0m │\n",
       "├─────────────────────────────────┼────────────────────────┼───────────────┤\n",
       "│ max_pooling2d_19 (\u001b[38;5;33mMaxPooling2D\u001b[0m) │ (\u001b[38;5;45mNone\u001b[0m, \u001b[38;5;34m3\u001b[0m, \u001b[38;5;34m3\u001b[0m, \u001b[38;5;34m256\u001b[0m)      │             \u001b[38;5;34m0\u001b[0m │\n",
       "├─────────────────────────────────┼────────────────────────┼───────────────┤\n",
       "│ flatten_3 (\u001b[38;5;33mFlatten\u001b[0m)             │ (\u001b[38;5;45mNone\u001b[0m, \u001b[38;5;34m2304\u001b[0m)           │             \u001b[38;5;34m0\u001b[0m │\n",
       "├─────────────────────────────────┼────────────────────────┼───────────────┤\n",
       "│ dense_3 (\u001b[38;5;33mDense\u001b[0m)                 │ (\u001b[38;5;45mNone\u001b[0m, \u001b[38;5;34m1\u001b[0m)              │         \u001b[38;5;34m2,305\u001b[0m │\n",
       "└─────────────────────────────────┴────────────────────────┴───────────────┘\n"
      ]
     },
     "metadata": {},
     "output_type": "display_data"
    },
    {
     "data": {
      "text/html": [
       "<pre style=\"white-space:pre;overflow-x:auto;line-height:normal;font-family:Menlo,'DejaVu Sans Mono',consolas,'Courier New',monospace\"><span style=\"font-weight: bold\"> Total params: </span><span style=\"color: #00af00; text-decoration-color: #00af00\">980,801</span> (3.74 MB)\n",
       "</pre>\n"
      ],
      "text/plain": [
       "\u001b[1m Total params: \u001b[0m\u001b[38;5;34m980,801\u001b[0m (3.74 MB)\n"
      ]
     },
     "metadata": {},
     "output_type": "display_data"
    },
    {
     "data": {
      "text/html": [
       "<pre style=\"white-space:pre;overflow-x:auto;line-height:normal;font-family:Menlo,'DejaVu Sans Mono',consolas,'Courier New',monospace\"><span style=\"font-weight: bold\"> Trainable params: </span><span style=\"color: #00af00; text-decoration-color: #00af00\">980,801</span> (3.74 MB)\n",
       "</pre>\n"
      ],
      "text/plain": [
       "\u001b[1m Trainable params: \u001b[0m\u001b[38;5;34m980,801\u001b[0m (3.74 MB)\n"
      ]
     },
     "metadata": {},
     "output_type": "display_data"
    },
    {
     "data": {
      "text/html": [
       "<pre style=\"white-space:pre;overflow-x:auto;line-height:normal;font-family:Menlo,'DejaVu Sans Mono',consolas,'Courier New',monospace\"><span style=\"font-weight: bold\"> Non-trainable params: </span><span style=\"color: #00af00; text-decoration-color: #00af00\">0</span> (0.00 B)\n",
       "</pre>\n"
      ],
      "text/plain": [
       "\u001b[1m Non-trainable params: \u001b[0m\u001b[38;5;34m0\u001b[0m (0.00 B)\n"
      ]
     },
     "metadata": {},
     "output_type": "display_data"
    }
   ],
   "source": [
    "import keras\n",
    "from keras import layers\n",
    "\n",
    "inputs = keras.Input(shape=(180,180,3))\n",
    "x = layers.Rescaling(1./255)(inputs)\n",
    "x = layers.Conv2D(filters=32, kernel_size=3, activation=\"relu\")(x)\n",
    "x = layers.MaxPooling2D(pool_size=2)(x)\n",
    "x = layers.Conv2D(filters=64, kernel_size=3, activation=\"relu\")(x)\n",
    "x = layers.MaxPooling2D(pool_size=2)(x)\n",
    "x = layers.Conv2D(filters=128, kernel_size=3, activation=\"relu\")(x)\n",
    "x = layers.MaxPooling2D(pool_size=2)(x)\n",
    "x = layers.Conv2D(filters=256, kernel_size=3, activation=\"relu\")(x)\n",
    "x = layers.MaxPooling2D(pool_size=2)(x)\n",
    "x = layers.Conv2D(filters=256, kernel_size=3, activation=\"relu\")(x)\n",
    "x = layers.MaxPooling2D(pool_size=2)(x)\n",
    "x = layers.Flatten()(x)\n",
    "outputs = layers.Dense(1, activation=\"sigmoid\")(x)\n",
    "\n",
    "model = keras.Model(inputs=inputs, outputs=outputs)\n",
    "\n",
    "model.summary()"
   ]
  },
  {
   "cell_type": "code",
   "execution_count": 213,
   "metadata": {},
   "outputs": [
    {
     "name": "stdout",
     "output_type": "stream",
     "text": [
      "Found 459 validated image filenames belonging to 5 classes.\n",
      "Found 51 validated image filenames belonging to 5 classes.\n",
      "Found 510 validated image filenames belonging to 5 classes.\n"
     ]
    }
   ],
   "source": [
    "from keras.src.legacy.preprocessing.image import ImageDataGenerator\n",
    "\n",
    "train_datagenerator = ImageDataGenerator(\n",
    "    featurewise_std_normalization=False,\n",
    "    samplewise_std_normalization=False,\n",
    "    rescale=1./255, \n",
    "    rotation_range=30, \n",
    "    width_shift_range=0.2, \n",
    "    height_shift_range=0.2, \n",
    "    shear_range=.2, \n",
    "    zoom_range=0.2,\n",
    "    horizontal_flip=True, \n",
    "    fill_mode='nearest',\n",
    "    validation_split=0.1)\n",
    "\n",
    "test_datagenerator = ImageDataGenerator(rescale=1./255)\n",
    "\n",
    "train_generator = train_datagenerator.flow_from_dataframe(\n",
    "    data, \n",
    "    x_col='path', \n",
    "    y_col='type',\n",
    "    target_size=(180, 180), \n",
    "    color_mode='rgba', \n",
    "    class_mode='categorical', \n",
    "    batch_size=32, \n",
    "    shuffle=True, \n",
    "    seed=1,\n",
    "    subset='training')\n",
    "validation_generator = train_datagenerator.flow_from_dataframe(\n",
    "    data , \n",
    "    x_col='path',\n",
    "    y_col='type',\n",
    "    target_size=(180, 180),\n",
    "    color_mode='rgba', \n",
    "    class_mode='categorical', \n",
    "    batch_size=32, \n",
    "    shuffle=True,\n",
    "    seed=1, \n",
    "    subset='validation'\n",
    ")\n",
    "\n",
    "test_generator = test_datagenerator.flow_from_dataframe(\n",
    "    data, \n",
    "    x_col='path',\n",
    "    y_col='type',\n",
    "    target_size=(180, 180),\n",
    "    color_mode='rgba', \n",
    "    class_mode='categorical',\n",
    "    batch_size=32, \n",
    "    shuffle=False\n",
    ")"
   ]
  },
  {
   "cell_type": "code",
   "execution_count": 214,
   "metadata": {},
   "outputs": [
    {
     "name": "stdout",
     "output_type": "stream",
     "text": [
      "(32, 180, 180, 4) (32, 5)\n"
     ]
    }
   ],
   "source": [
    "for data_batch, labels_batch in train_generator:\n",
    "    print(data_batch.shape, labels_batch.shape)\n",
    "    break"
   ]
  },
  {
   "cell_type": "code",
   "execution_count": 204,
   "metadata": {},
   "outputs": [],
   "source": [
    "callbacks = [\n",
    "    keras.callbacks.ModelCheckpoint(\n",
    "        filepath=\"convnet_from_scratch2.keras\",\n",
    "        save_best_only=True,\n",
    "        monitor=\"val_loss\"\n",
    "    )\n",
    "]"
   ]
  },
  {
   "cell_type": "code",
   "execution_count": 205,
   "metadata": {},
   "outputs": [],
   "source": [
    "model.compile(loss=\"binary_crossentropy\", optimizer=\"rmsprop\", metrics=[\"accuracy\"])"
   ]
  },
  {
   "cell_type": "code",
   "execution_count": 206,
   "metadata": {},
   "outputs": [
    {
     "name": "stderr",
     "output_type": "stream",
     "text": [
      "c:\\Users\\maxi7\\Deep_Machinelearning\\Deep-Machinelearning\\.venv\\Lib\\site-packages\\keras\\src\\trainers\\data_adapters\\py_dataset_adapter.py:121: UserWarning: Your `PyDataset` class should call `super().__init__(**kwargs)` in its constructor. `**kwargs` can include `workers`, `use_multiprocessing`, `max_queue_size`. Do not pass these arguments to `fit()`, as they will be ignored.\n",
      "  self._warn_if_super_not_called()\n"
     ]
    },
    {
     "name": "stdout",
     "output_type": "stream",
     "text": [
      "Epoch 1/30\n"
     ]
    },
    {
     "ename": "ValueError",
     "evalue": "Input 0 of layer \"functional_3\" is incompatible with the layer: expected shape=(None, 180, 180, 3), found shape=(None, 180, 180, 4)",
     "output_type": "error",
     "traceback": [
      "\u001b[1;31m---------------------------------------------------------------------------\u001b[0m",
      "\u001b[1;31mValueError\u001b[0m                                Traceback (most recent call last)",
      "Cell \u001b[1;32mIn[206], line 1\u001b[0m\n\u001b[1;32m----> 1\u001b[0m history \u001b[38;5;241m=\u001b[39m \u001b[43mmodel\u001b[49m\u001b[38;5;241;43m.\u001b[39;49m\u001b[43mfit\u001b[49m\u001b[43m(\u001b[49m\u001b[43mtrain_generator\u001b[49m\u001b[43m,\u001b[49m\u001b[43m \u001b[49m\u001b[43mepochs\u001b[49m\u001b[38;5;241;43m=\u001b[39;49m\u001b[38;5;241;43m30\u001b[39;49m\u001b[43m,\u001b[49m\u001b[43m \u001b[49m\u001b[43mvalidation_data\u001b[49m\u001b[38;5;241;43m=\u001b[39;49m\u001b[43mvalidation_generator\u001b[49m\u001b[43m,\u001b[49m\u001b[43m \u001b[49m\u001b[43mcallbacks\u001b[49m\u001b[38;5;241;43m=\u001b[39;49m\u001b[43mcallbacks\u001b[49m\u001b[43m)\u001b[49m\n",
      "File \u001b[1;32mc:\\Users\\maxi7\\Deep_Machinelearning\\Deep-Machinelearning\\.venv\\Lib\\site-packages\\keras\\src\\utils\\traceback_utils.py:122\u001b[0m, in \u001b[0;36mfilter_traceback.<locals>.error_handler\u001b[1;34m(*args, **kwargs)\u001b[0m\n\u001b[0;32m    119\u001b[0m     filtered_tb \u001b[38;5;241m=\u001b[39m _process_traceback_frames(e\u001b[38;5;241m.\u001b[39m__traceback__)\n\u001b[0;32m    120\u001b[0m     \u001b[38;5;66;03m# To get the full stack trace, call:\u001b[39;00m\n\u001b[0;32m    121\u001b[0m     \u001b[38;5;66;03m# `keras.config.disable_traceback_filtering()`\u001b[39;00m\n\u001b[1;32m--> 122\u001b[0m     \u001b[38;5;28;01mraise\u001b[39;00m e\u001b[38;5;241m.\u001b[39mwith_traceback(filtered_tb) \u001b[38;5;28;01mfrom\u001b[39;00m \u001b[38;5;28;01mNone\u001b[39;00m\n\u001b[0;32m    123\u001b[0m \u001b[38;5;28;01mfinally\u001b[39;00m:\n\u001b[0;32m    124\u001b[0m     \u001b[38;5;28;01mdel\u001b[39;00m filtered_tb\n",
      "File \u001b[1;32mc:\\Users\\maxi7\\Deep_Machinelearning\\Deep-Machinelearning\\.venv\\Lib\\site-packages\\keras\\src\\layers\\input_spec.py:245\u001b[0m, in \u001b[0;36massert_input_compatibility\u001b[1;34m(input_spec, inputs, layer_name)\u001b[0m\n\u001b[0;32m    243\u001b[0m \u001b[38;5;28;01mif\u001b[39;00m spec_dim \u001b[38;5;129;01mis\u001b[39;00m \u001b[38;5;129;01mnot\u001b[39;00m \u001b[38;5;28;01mNone\u001b[39;00m \u001b[38;5;129;01mand\u001b[39;00m dim \u001b[38;5;129;01mis\u001b[39;00m \u001b[38;5;129;01mnot\u001b[39;00m \u001b[38;5;28;01mNone\u001b[39;00m:\n\u001b[0;32m    244\u001b[0m     \u001b[38;5;28;01mif\u001b[39;00m spec_dim \u001b[38;5;241m!=\u001b[39m dim:\n\u001b[1;32m--> 245\u001b[0m         \u001b[38;5;28;01mraise\u001b[39;00m \u001b[38;5;167;01mValueError\u001b[39;00m(\n\u001b[0;32m    246\u001b[0m             \u001b[38;5;124mf\u001b[39m\u001b[38;5;124m'\u001b[39m\u001b[38;5;124mInput \u001b[39m\u001b[38;5;132;01m{\u001b[39;00minput_index\u001b[38;5;132;01m}\u001b[39;00m\u001b[38;5;124m of layer \u001b[39m\u001b[38;5;124m\"\u001b[39m\u001b[38;5;132;01m{\u001b[39;00mlayer_name\u001b[38;5;132;01m}\u001b[39;00m\u001b[38;5;124m\"\u001b[39m\u001b[38;5;124m is \u001b[39m\u001b[38;5;124m'\u001b[39m\n\u001b[0;32m    247\u001b[0m             \u001b[38;5;124m\"\u001b[39m\u001b[38;5;124mincompatible with the layer: \u001b[39m\u001b[38;5;124m\"\u001b[39m\n\u001b[0;32m    248\u001b[0m             \u001b[38;5;124mf\u001b[39m\u001b[38;5;124m\"\u001b[39m\u001b[38;5;124mexpected shape=\u001b[39m\u001b[38;5;132;01m{\u001b[39;00mspec\u001b[38;5;241m.\u001b[39mshape\u001b[38;5;132;01m}\u001b[39;00m\u001b[38;5;124m, \u001b[39m\u001b[38;5;124m\"\u001b[39m\n\u001b[0;32m    249\u001b[0m             \u001b[38;5;124mf\u001b[39m\u001b[38;5;124m\"\u001b[39m\u001b[38;5;124mfound shape=\u001b[39m\u001b[38;5;132;01m{\u001b[39;00mshape\u001b[38;5;132;01m}\u001b[39;00m\u001b[38;5;124m\"\u001b[39m\n\u001b[0;32m    250\u001b[0m         )\n",
      "\u001b[1;31mValueError\u001b[0m: Input 0 of layer \"functional_3\" is incompatible with the layer: expected shape=(None, 180, 180, 3), found shape=(None, 180, 180, 4)"
     ]
    }
   ],
   "source": [
    "history = model.fit(train_generator, epochs=30, validation_data=validation_generator, callbacks=callbacks)"
   ]
  }
 ],
 "metadata": {
  "kernelspec": {
   "display_name": ".venv",
   "language": "python",
   "name": "python3"
  },
  "language_info": {
   "codemirror_mode": {
    "name": "ipython",
    "version": 3
   },
   "file_extension": ".py",
   "mimetype": "text/x-python",
   "name": "python",
   "nbconvert_exporter": "python",
   "pygments_lexer": "ipython3",
   "version": "3.11.9"
  }
 },
 "nbformat": 4,
 "nbformat_minor": 2
}
